{
 "cells": [
  {
   "cell_type": "code",
   "execution_count": 1,
   "id": "71947b30-131a-49d8-be56-e72f621a9eca",
   "metadata": {},
   "outputs": [],
   "source": [
    "import json\n",
    "import os\n",
    "import sys"
   ]
  },
  {
   "cell_type": "markdown",
   "id": "5fccd1a9-3767-4041-a3db-6d4b39eb05dd",
   "metadata": {},
   "source": [
    "## Goal\n",
    "#### In this lab we will take a step-by-step aprpoach to build an agent\n",
    "* Learning Objective 1 - Build a local strands agent and run it locally\n",
    "* Learning Objective 2 - Get Agent core ready for AgentCore\n",
    "* Learning Objective 3 - Deploy using starter toolkit and DIY Docker image\n",
    "* Learning Objective 4 - Invoke agent using toolkit, boto3, and HTTPS\n",
    "* Learning Objectvie 5 - Enable tools to access protected resources - API Key and OAuth Tokens\n",
    "* Learning Objectvie 6 - Use OAuth and Cognito to authenticate/authorize before accessing Agent \n",
    "\n",
    "<img src=\"images/goal.jpg\" width=\"75%\">"
   ]
  },
  {
   "cell_type": "markdown",
   "id": "25edb816-920d-46e1-b7df-daced5990a42",
   "metadata": {},
   "source": [
    "## Learning Objective 1 - Basic agent running locally"
   ]
  },
  {
   "attachments": {},
   "cell_type": "markdown",
   "id": "714b24d3-f3f1-4f43-bf76-81a7a182c9ae",
   "metadata": {},
   "source": [
    "#### As a first step of the learning journey, we will build a simple Strands Agents\n",
    "* No authentication - available to all users on the account with required IAM privileges\n",
    "* get_weather() is not accessing any resources secured by an API Key or OAuth 2.0 Access Tokens\n",
    "* Run locally in Jupyter Notebook\n",
    "  \n",
    "<img src=\"images/Learning 1.jpg\" width=\"500\">"
   ]
  },
  {
   "cell_type": "code",
   "execution_count": 2,
   "id": "1748fba8-a09c-4319-a6d3-2d430013f8e6",
   "metadata": {},
   "outputs": [
    {
     "name": "stdout",
     "output_type": "stream",
     "text": [
      "Overwriting weather_agent.py\n"
     ]
    }
   ],
   "source": [
    "%%writefile weather_agent.py\n",
    "import argparse, json\n",
    "from strands import Agent, tool\n",
    "\n",
    "@tool\n",
    "def weather(city: str):\n",
    "    \"\"\"\n",
    "    Get weather for a given city\n",
    "    Params:\n",
    "        city: Name of the city you want the weather for\n",
    "    \"\"\"\n",
    "    return f\"Weather in {city} is warm and sunny\"\n",
    "\n",
    "agent = Agent(tools=[weather])\n",
    "\n",
    "def strands_agent_bedrock(payload):\n",
    "    prompt = payload.get(\"prompt\",\"hello\")\n",
    "    response = agent(prompt)\n",
    "    return response\n",
    "\n",
    "if __name__ == \"__main__\":\n",
    "    parser = argparse.ArgumentParser()\n",
    "    parser.add_argument(\"payload\", type=str)\n",
    "    args = parser.parse_args()\n",
    "    response = strands_agent_bedrock(json.loads(args.payload))\n",
    "    print(response)"
   ]
  },
  {
   "cell_type": "code",
   "execution_count": 3,
   "id": "5350cf35-f1ba-4213-9da1-7b63beda826a",
   "metadata": {},
   "outputs": [
    {
     "name": "stdout",
     "output_type": "stream",
     "text": [
      "I'll check the current weather in Irvine for you.\n",
      "Tool #1: weather\n",
      "The current weather in Irvine is warm and sunny. It's a nice day out there!The current weather in Irvine is warm and sunny. It's a nice day out there!\n",
      "\n"
     ]
    }
   ],
   "source": [
    "!python3 weather_agent.py '{\"prompt\": \"What is the weather now in Irvine?\"}'"
   ]
  },
  {
   "cell_type": "markdown",
   "id": "ec058e35-a47c-4fbb-9fa4-4ba991f62ddb",
   "metadata": {},
   "source": [
    "## Learning Objective 2: Get agent code ready for AgentCore"
   ]
  },
  {
   "cell_type": "markdown",
   "id": "3d22ec51-da0e-4e43-a2c3-5f75097f9ca3",
   "metadata": {},
   "source": [
    "#### 1. Make code changes\n",
    "Let's now deploy our agents to AgentCore Runtime. To do so we need to:\n",
    "\n",
    "* Import the Runtime App with `from bedrock_agentcore.runtime import BedrockAgentCoreApp`\n",
    "* Initialize the App in our code with `app = BedrockAgentCoreApp()`\n",
    "* Decorate the invocation function with the `@app.entrypoint decorator`\n",
    "* Let AgentCoreRuntime control the running of the agent with `app.run()`"
   ]
  },
  {
   "cell_type": "code",
   "execution_count": 4,
   "id": "6719c869-ab8e-4a52-829e-a99384227f74",
   "metadata": {},
   "outputs": [
    {
     "name": "stdout",
     "output_type": "stream",
     "text": [
      "Overwriting weather_agent_strands.py\n"
     ]
    }
   ],
   "source": [
    "%%writefile weather_agent_strands.py\n",
    "import argparse, json\n",
    "from strands import Agent, tool\n",
    "from bedrock_agentcore.runtime import BedrockAgentCoreApp\n",
    "\n",
    "app = BedrockAgentCoreApp()\n",
    "\n",
    "@tool\n",
    "def weather(city: str):\n",
    "    \"\"\"\n",
    "    Get weather for a given city\n",
    "    Params:\n",
    "        city: Name of the city you want the weather for\n",
    "    \"\"\"\n",
    "    return f\"Weather in {city} is warm and sunny\"\n",
    "\n",
    "agent = Agent(tools=[weather])\n",
    "\n",
    "@app.entrypoint\n",
    "def strands_agent_bedrock(payload):\n",
    "    prompt = payload.get(\"prompt\",\"hello\")\n",
    "    response = agent(prompt)\n",
    "    return response\n",
    "\n",
    "if __name__ == \"__main__\":\n",
    "    app.run()"
   ]
  },
  {
   "cell_type": "markdown",
   "id": "b2966237-d142-4405-beaf-ee1d56b5e6f1",
   "metadata": {},
   "source": [
    "#### What happens behind the scenes?\n",
    "\n",
    "When you use `BedrockAgentCoreApp`, it automatically:\n",
    "\n",
    "* Creates an HTTP server that listens on the port 8080\n",
    "* Implements the required `/invocations` endpoint for processing the agent's requirements\n",
    "* Implements the `/ping` endpoint for health checks (very important for asynchronous agents)\n",
    "* Handles proper content types and response formats\n",
    "* Manages error handling according to the AWS standards"
   ]
  },
  {
   "cell_type": "markdown",
   "id": "72e384cc-c4e3-4ed7-9ae7-29c995aafa2c",
   "metadata": {},
   "source": [
    "#### 2. Create a role that Agent will use during run time\n",
    "To run agent or tool in AgentCore Runtime you need an AWS Identity and Access Management execution role. The AgentCore Runtime execution role is an IAM role that AgentCore Runtime assumes to run an agent. \n",
    "Starting point for your role definition can be found at https://docs.aws.amazon.com/bedrock-agentcore/latest/devguide/runtime-permissions.html. In the role definition below we have added additional actions to support identity."
   ]
  },
  {
   "cell_type": "code",
   "execution_count": 5,
   "id": "48b86376-80f3-4d2d-bad9-3449a909aa65",
   "metadata": {},
   "outputs": [],
   "source": [
    "import boto3\n",
    "from boto3.session import Session\n",
    "boto_session = Session()\n",
    "region = boto_session.region_name\n",
    "sts = boto3.client('sts')\n",
    "account_id = sts.get_caller_identity().get(\"Account\")"
   ]
  },
  {
   "cell_type": "code",
   "execution_count": 6,
   "id": "8a9fde50-1a05-4485-a57e-50696c7593ea",
   "metadata": {},
   "outputs": [],
   "source": [
    "permission = \"\"\"{\n",
    "    \"Version\": \"2012-10-17\",\n",
    "    \"Statement\": [\n",
    "        {\n",
    "            \"Sid\": \"GetWorkloadAccessTokenForJWT\",\n",
    "            \"Effect\": \"Allow\",\n",
    "            \"Action\": [\n",
    "                \"bedrock-agentcore:GetWorkloadAccessTokenForJWT\"\n",
    "            ],\n",
    "            \"Resource\": \"*\"\n",
    "        },\n",
    "        {\n",
    "            \"Sid\": \"GetResourceOauth2Token\",\n",
    "            \"Effect\": \"Allow\",\n",
    "            \"Action\": [\n",
    "                \"bedrock-agentcore:GetResourceOauth2Token\"\n",
    "            ],\n",
    "            \"Resource\": \"*\"\n",
    "        },\n",
    "        {\n",
    "            \"Sid\": \"GetWorkloadAccessTokenForUserId\",\n",
    "            \"Effect\": \"Allow\",\n",
    "            \"Action\": [\n",
    "                \"bedrock-agentcore:GetWorkloadAccessTokenForUserId\"\n",
    "            ],\n",
    "            \"Resource\": \"*\"\n",
    "        },\n",
    "        {\n",
    "            \"Sid\": \"GetResourceAPIKey\",\n",
    "            \"Effect\": \"Allow\",\n",
    "            \"Action\": [\n",
    "                \"bedrock-agentcore:GetResourceApiKey\"\n",
    "            ],\n",
    "            \"Resource\": \"*\"\n",
    "        },\n",
    "        {\n",
    "            \"Sid\": \"SecretManager\",\n",
    "            \"Effect\": \"Allow\",\n",
    "            \"Action\": [\n",
    "                \"secretsmanager:GetSecretValue\"\n",
    "            ],\n",
    "            \"Resource\": \"*\"\n",
    "        },\n",
    "        {\n",
    "            \"Sid\": \"ECRImageAccess\",\n",
    "            \"Effect\": \"Allow\",\n",
    "            \"Action\": [\n",
    "                \"ecr:BatchGetImage\",\n",
    "                \"ecr:GetDownloadUrlForLayer\"\n",
    "            ],\n",
    "            \"Resource\": [\n",
    "                \"arn:aws:ecr:region:accountId:repository/*\"\n",
    "            ]        \n",
    "        },\n",
    "        {\n",
    "            \"Effect\": \"Allow\",\n",
    "            \"Action\": [\n",
    "                \"logs:DescribeLogStreams\",\n",
    "                \"logs:CreateLogGroup\"\n",
    "            ],\n",
    "            \"Resource\": [\n",
    "                \"arn:aws:logs:region:accountId:log-group:/aws/bedrock-agentcore/runtimes/*\"\n",
    "            ]\n",
    "        },\n",
    "        {\n",
    "            \"Effect\": \"Allow\",\n",
    "            \"Action\": [\n",
    "                \"logs:DescribeLogGroups\"\n",
    "            ],\n",
    "            \"Resource\": [\n",
    "                \"arn:aws:logs:region:accountId:log-group:*\"\n",
    "            ]\n",
    "        },\n",
    "        {\n",
    "            \"Effect\": \"Allow\",\n",
    "            \"Action\": [\n",
    "                \"logs:CreateLogStream\",\n",
    "                \"logs:PutLogEvents\"\n",
    "            ],\n",
    "            \"Resource\": [\n",
    "                \"arn:aws:logs:region:accountId:log-group:/aws/bedrock-agentcore/runtimes/*:log-stream:*\"\n",
    "            ]\n",
    "        },\n",
    "        {\n",
    "            \"Sid\": \"ECRTokenAccess\",\n",
    "            \"Effect\": \"Allow\",\n",
    "            \"Action\": [\n",
    "                \"ecr:GetAuthorizationToken\"\n",
    "            ],\n",
    "            \"Resource\": \"*\"\n",
    "        },\n",
    "        {\n",
    "        \"Effect\": \"Allow\", \n",
    "        \"Action\": [ \n",
    "            \"xray:PutTraceSegments\", \n",
    "            \"xray:PutTelemetryRecords\", \n",
    "            \"xray:GetSamplingRules\", \n",
    "            \"xray:GetSamplingTargets\"\n",
    "            ],\n",
    "         \"Resource\": [ \"*\" ] \n",
    "         },\n",
    "         {\n",
    "            \"Effect\": \"Allow\",\n",
    "            \"Resource\": \"*\",\n",
    "            \"Action\": \"cloudwatch:PutMetricData\",\n",
    "            \"Condition\": {\n",
    "                \"StringEquals\": {\n",
    "                    \"cloudwatch:namespace\": \"bedrock-agentcore\"\n",
    "                }\n",
    "            }\n",
    "        },\n",
    "        {\n",
    "            \"Sid\": \"GetAgentAccessToken\",\n",
    "            \"Effect\": \"Allow\",\n",
    "            \"Action\": [\n",
    "                \"bedrock-agentcore:GetWorkloadAccessToken\",\n",
    "                \"bedrock-agentcore:GetWorkloadAccessTokenForJWT\",\n",
    "                \"bedrock-agentcore:GetWorkloadAccessTokenForUserId\"\n",
    "            ],\n",
    "            \"Resource\": [\n",
    "              \"arn:aws:bedrock-agentcore:region:accountId:workload-identity-directory/default\",\n",
    "              \"arn:aws:bedrock-agentcore:region:accountId:workload-identity-directory/default/workload-identity/agentName-*\"\n",
    "            ]\n",
    "        },\n",
    "         {\"Sid\": \"BedrockModelInvocation\", \n",
    "         \"Effect\": \"Allow\", \n",
    "         \"Action\": [ \n",
    "                \"bedrock:InvokeModel\", \n",
    "                \"bedrock:InvokeModelWithResponseStream\"\n",
    "              ], \n",
    "        \"Resource\": [\n",
    "            \"arn:aws:bedrock:*::foundation-model/*\",\n",
    "            \"arn:aws:bedrock:region:accountId:*\"\n",
    "        ]\n",
    "        }\n",
    "    ]\n",
    "}\"\"\"\n",
    "\n",
    "trust_policy = \"\"\"{\n",
    "  \"Version\": \"2012-10-17\",\n",
    "  \"Statement\": [\n",
    "    {\n",
    "      \"Sid\": \"AssumeRolePolicy\",\n",
    "      \"Effect\": \"Allow\",\n",
    "      \"Principal\": {\n",
    "        \"Service\": \"bedrock-agentcore.amazonaws.com\"\n",
    "      },\n",
    "      \"Action\": \"sts:AssumeRole\",\n",
    "      \"Condition\": {\n",
    "            \"StringEquals\": {\n",
    "                \"aws:SourceAccount\": \"accountId\"\n",
    "            },\n",
    "            \"ArnLike\": {\n",
    "                \"aws:SourceArn\": \"arn:aws:bedrock-agentcore:region:accountId:*\"\n",
    "            }\n",
    "       }\n",
    "    }\n",
    "  ]\n",
    "}\"\"\"\n",
    "#trust_policy = json.loads(trust_policy.replace(\"accountId\", account_id).replace(\"region\", region))\n",
    "trust_policy = trust_policy.replace(\"accountId\", account_id).replace(\"region\", region)\n",
    "#permission = json.loads(permission.replace(\"accountId\", account_id).replace(\"region\", region))\n",
    "permission = permission.replace(\"accountId\", account_id).replace(\"region\", region)"
   ]
  },
  {
   "cell_type": "code",
   "execution_count": 7,
   "id": "acc7a7ae-49cb-47f2-80f6-d81d7a6567bc",
   "metadata": {},
   "outputs": [],
   "source": [
    "agentcore_role_name = \"BedrockAgentCoreRole\""
   ]
  },
  {
   "cell_type": "code",
   "execution_count": 8,
   "id": "ad9234f4-74db-4adf-9474-328cef4c0b65",
   "metadata": {},
   "outputs": [],
   "source": [
    "iam_client = boto3.client('iam')\n",
    "agentcore_role_name = \"BedrockAgentCoreRole\"\n",
    "policy_name = \"BedrockAgentCorePolicy\"\n",
    "agentcore_iam_role = iam_client.create_role(\n",
    "        RoleName=agentcore_role_name,\n",
    "        AssumeRolePolicyDocument=trust_policy\n",
    "    )"
   ]
  },
  {
   "cell_type": "code",
   "execution_count": 9,
   "id": "582d5d45-fb80-4aa9-b88e-7f7262db2892",
   "metadata": {},
   "outputs": [
    {
     "data": {
      "text/plain": [
       "{'ResponseMetadata': {'RequestId': '83aff5c7-28af-4ef0-bba6-3d5fc6f1d2a2',\n",
       "  'HTTPStatusCode': 200,\n",
       "  'HTTPHeaders': {'date': 'Sat, 09 Aug 2025 18:15:10 GMT',\n",
       "   'x-amzn-requestid': '83aff5c7-28af-4ef0-bba6-3d5fc6f1d2a2',\n",
       "   'content-type': 'text/xml',\n",
       "   'content-length': '206'},\n",
       "  'RetryAttempts': 0}}"
      ]
     },
     "execution_count": 9,
     "metadata": {},
     "output_type": "execute_result"
    }
   ],
   "source": [
    "iam_client.put_role_policy(\n",
    "        PolicyDocument=permission,\n",
    "        PolicyName=\"AgentCorePolicy\",\n",
    "        RoleName=agentcore_role_name\n",
    "    )"
   ]
  },
  {
   "cell_type": "markdown",
   "id": "25dc5224-0646-4c2b-9a3a-25d7aa428861",
   "metadata": {},
   "source": [
    "## Learning Objective 3: Deploy Agent into AgentCore\n",
    "You can build an Agent Docker image and deploy it on AgentCore Runtime using 2 methods\n",
    "* Use Bedrock AgentCore Runtime starter toolkit to simplify the process of Docker build, ECR creation, and deployment\n",
    "* Retain control of the whole process by building a Docker Image, creating an ECR, and use boto3 SDK to deploy into Amazon Bedrock AgentCore"
   ]
  },
  {
   "cell_type": "markdown",
   "id": "34855bdb-0647-485f-bc4d-0f32923b5f0e",
   "metadata": {},
   "source": [
    "### Option 1 - Use AgentCore Starter Toolkit"
   ]
  },
  {
   "cell_type": "markdown",
   "id": "b86ba8cc-5418-488d-93db-d3bc992ef1c5",
   "metadata": {},
   "source": [
    "#### Step 1: Configure Runtime\n",
    "During the configure step, your docker file will be generated based on your application code\n",
    "\n",
    "<div style=\"text-align:left\">\n",
    "    <img src=\"./images/configure.png\" width=\"60%\"/>\n",
    "</div>"
   ]
  },
  {
   "cell_type": "code",
   "execution_count": 10,
   "id": "2b7f97a3-12e7-45a4-9cbf-0af6a7f1b22c",
   "metadata": {},
   "outputs": [
    {
     "name": "stdout",
     "output_type": "stream",
     "text": [
      "Writing requirements.txt\n"
     ]
    }
   ],
   "source": [
    "%%writefile requirements.txt\n",
    "strands-agents\n",
    "strands-agents-tools\n",
    "uv\n",
    "boto3\n",
    "bedrock-agentcore\n",
    "bedrock-agentcore-starter-toolkit\n",
    "tavily-python\n",
    "uvicorn\n",
    "fastapi"
   ]
  },
  {
   "cell_type": "code",
   "execution_count": 11,
   "id": "d341eea3-0e90-4a3b-96ef-45cc1ba4cb6a",
   "metadata": {},
   "outputs": [
    {
     "name": "stderr",
     "output_type": "stream",
     "text": [
      "Bedrock AgentCore configured: /Users/dhegde/Documents/Code/AgentCore/GITHUB/amazon-bedrock-agentcore-samples/04-LearningPath/.bedrock_agentcore.yaml\n"
     ]
    }
   ],
   "source": [
    "from bedrock_agentcore_starter_toolkit import Runtime\n",
    "agentcore_runtime = Runtime()\n",
    "\n",
    "agent_name = \"weather_agent_strands\"\n",
    "config_response = agentcore_runtime.configure(\n",
    "    entrypoint=\"weather_agent_strands.py\",\n",
    "    execution_role=\"BedrockAgentCoreRole\",\n",
    "    auto_create_ecr=True,\n",
    "    requirements_file=\"requirements.txt\",\n",
    "    region=region,\n",
    "    agent_name=agent_name\n",
    ")"
   ]
  },
  {
   "cell_type": "markdown",
   "id": "cac13341-897c-4b66-bc2c-441574b20caa",
   "metadata": {},
   "source": [
    "#### Step 2: Launch Agent\n",
    "Now that we've got a docker file, let's launch the agent to the AgentCore Runtime. This will create the Amazon ECR repository and the AgentCore Runtime\n",
    "\n",
    "<div style=\"text-align:left\">\n",
    "    <img src=\"./images/launch.png\" width=\"75%\"/>\n",
    "</div>"
   ]
  },
  {
   "cell_type": "code",
   "execution_count": 12,
   "id": "e7ab4aac-b74d-4180-bd41-3fded70468ab",
   "metadata": {
    "scrolled": true
   },
   "outputs": [
    {
     "name": "stderr",
     "output_type": "stream",
     "text": [
      "Build: #9 4.741 ERROR: pip's dependency resolver does not currently take into account all the packages that are installed. This behaviour is the source of the following dependency conflicts.\n"
     ]
    },
    {
     "name": "stdout",
     "output_type": "stream",
     "text": [
      "The push refers to repository [135808924095.dkr.ecr.us-west-2.amazonaws.com/bedrock_agentcore-weather_agent_strands]\n",
      "efc6cdef2f3b: Waiting\n",
      "a4ad6ba921cf: Waiting\n",
      "9d9293313685: Waiting\n",
      "94fa42b5194c: Waiting\n",
      "8671f17abb36: Waiting\n",
      "f8d7a1f0426e: Waiting\n",
      "33b4520294a0: Waiting\n",
      "046e0ba021a5: Waiting\n",
      "b3407f3b5b5b: Waiting\n",
      "27b1542b9257: Waiting\n",
      "9d9293313685: Waiting\n",
      "efc6cdef2f3b: Waiting\n",
      "a4ad6ba921cf: Waiting\n",
      "b3407f3b5b5b: Waiting\n",
      "27b1542b9257: Waiting\n",
      "94fa42b5194c: Waiting\n",
      "8671f17abb36: Waiting\n",
      "f8d7a1f0426e: Waiting\n",
      "33b4520294a0: Waiting\n",
      "046e0ba021a5: Waiting\n",
      "94fa42b5194c: Layer already exists\n",
      "8671f17abb36: Waiting\n",
      "f8d7a1f0426e: Layer already exists\n",
      "33b4520294a0: Waiting\n",
      "046e0ba021a5: Layer already exists\n",
      "b3407f3b5b5b: Layer already exists\n",
      "27b1542b9257: Waiting\n",
      "efc6cdef2f3b: Waiting\n",
      "a4ad6ba921cf: Waiting\n",
      "9d9293313685: Waiting\n",
      "a4ad6ba921cf: Waiting\n",
      "27b1542b9257: Layer already exists\n",
      "8671f17abb36: Waiting\n",
      "33b4520294a0: Pushed\n",
      "efc6cdef2f3b: Pushed\n",
      "a4ad6ba921cf: Pushed\n",
      "9d9293313685: Pushed\n",
      "8671f17abb36: Pushed\n",
      "latest: digest: sha256:3a7d71f95ab38d27e95bfa4d3b6ca5d89f48ffb04f14ab1d5481473b7cf4c14e size: 856\n"
     ]
    },
    {
     "name": "stderr",
     "output_type": "stream",
     "text": [
      "Deployed to cloud: arn:aws:bedrock-agentcore:us-west-2:135808924095:runtime/weather_agent_strands-p07lnvG3xt\n",
      "🔍 Agent logs available at:\n",
      "   /aws/bedrock-agentcore/runtimes/weather_agent_strands-p07lnvG3xt-DEFAULT\n",
      "   /aws/bedrock-agentcore/runtimes/weather_agent_strands-p07lnvG3xt-DEFAULT/runtime-logs\n",
      "💡 Tail logs with: aws logs tail /aws/bedrock-agentcore/runtimes/weather_agent_strands-p07lnvG3xt-DEFAULT --follow\n",
      "💡 Or view recent logs: aws logs tail /aws/bedrock-agentcore/runtimes/weather_agent_strands-p07lnvG3xt-DEFAULT --since 1h\n"
     ]
    }
   ],
   "source": [
    "launch_response = agentcore_runtime.launch()"
   ]
  },
  {
   "cell_type": "markdown",
   "id": "384d73c9-8b0e-4d3f-b2e5-094713ac7b38",
   "metadata": {},
   "source": [
    "### Option 2 - Use Docker Container and Boto3 \n",
    "AgentCore Starter toolkit abstracted the task of building a docker file and adding /invocation and /ping endpoints to your agent. However, you may have a need to build and deploy your agent in your own docker image. To align with Amazon Bedrock AgentCore requirements:\n",
    "* Your agent must expose /invocations POST and /ping GET endpoints and be packaged in a Docker container\n",
    "* Your docker images must be built for arm64\n",
    "\n",
    "<div style=\"text-align:left\">\n",
    "    <img src=\"./images/launch_boto3.jpg\" width=\"75%\"/>\n",
    "</div>"
   ]
  },
  {
   "cell_type": "code",
   "execution_count": 13,
   "id": "de14e772-39b4-4973-a7d8-5cfa6dc9211b",
   "metadata": {},
   "outputs": [],
   "source": [
    "agent_name = \"weather_agent_strands_wo_starter\""
   ]
  },
  {
   "cell_type": "markdown",
   "id": "f1d1b19f-b8e5-4b86-9716-d7598aca7e59",
   "metadata": {},
   "source": [
    "#### Step 1 - Update agent code\n",
    "This implementation:\n",
    "* Creates a FastAPI application with the required endpoints\n",
    "* Initializes a Strands agent for processing user messages\n",
    "* Implements the /invocations POST endpoint for agent interactions\n",
    "* Implements the /ping GET endpoint for health checks\n",
    "* Configures the server to run on host 0.0.0.0 and port 8080"
   ]
  },
  {
   "cell_type": "code",
   "execution_count": 14,
   "id": "a14b0623-180b-4118-8d11-e193ef3ccb68",
   "metadata": {},
   "outputs": [
    {
     "name": "stdout",
     "output_type": "stream",
     "text": [
      "Writing weather_agent_strands_wo_toolkit.py\n"
     ]
    }
   ],
   "source": [
    "%%writefile weather_agent_strands_wo_toolkit.py\n",
    "from fastapi import FastAPI, HTTPException\n",
    "from pydantic import BaseModel\n",
    "from typing import Dict, Any\n",
    "from datetime import datetime\n",
    "from strands import Agent, tool\n",
    "\n",
    "app = FastAPI(title=\"Strands Agent Server\", version=\"1.0.0\")\n",
    "\n",
    "@tool\n",
    "def weather(city: str):\n",
    "    \"\"\"\n",
    "    Get weather for a given city\n",
    "    Params:\n",
    "        city: Name of the city you want the weather for\n",
    "    \"\"\"\n",
    "    return f\"Weather in {city} is warm and sunny\"\n",
    "    \n",
    "# Initialize Strands agent\n",
    "strands_agent = Agent(tools=[weather])\n",
    "\n",
    "class InvocationRequest(BaseModel):\n",
    "    input: Dict[str, Any]\n",
    "\n",
    "class InvocationResponse(BaseModel):\n",
    "    output: Dict[str, Any]\n",
    "\n",
    "    \n",
    "@app.post(\"/invocations\", response_model=InvocationResponse)\n",
    "async def invoke_agent(request: InvocationRequest):\n",
    "    try:\n",
    "        user_message = request.input.get(\"prompt\", \"\")\n",
    "        if not user_message:\n",
    "            raise HTTPException(\n",
    "                status_code=400, \n",
    "                detail=\"No prompt found in input. Please provide a 'prompt' key in the input.\"\n",
    "            )\n",
    "\n",
    "        result = strands_agent(user_message)\n",
    "        response = {\n",
    "            \"message\": result.message,\n",
    "            \"timestamp\": datetime.utcnow().isoformat(),\n",
    "            \"model\": \"strands-agent\",\n",
    "        }\n",
    "\n",
    "        return InvocationResponse(output=response)\n",
    "\n",
    "    except Exception as e:\n",
    "        raise HTTPException(status_code=500, detail=f\"Agent processing failed: {str(e)}\")\n",
    "\n",
    "@app.get(\"/ping\")\n",
    "async def ping():\n",
    "    return {\"status\": \"healthy\"}\n",
    "\n",
    "if __name__ == \"__main__\":\n",
    "    import uvicorn\n",
    "    uvicorn.run(app, host=\"0.0.0.0\", port=8080)"
   ]
  },
  {
   "cell_type": "markdown",
   "id": "c6fc6859-2319-411c-9f25-aadca8a3f8ba",
   "metadata": {},
   "source": [
    "#### Step 2 - Build Docker container\n",
    "* Application should be launched on 0.0.0.0 and port 8080 for AgentCore Runtime to be able to invoke it.\n",
    "\n",
    "Detailed instructions can be found at https://docs.aws.amazon.com/bedrock-agentcore/latest/devguide/getting-started-custom.html"
   ]
  },
  {
   "cell_type": "code",
   "execution_count": 15,
   "id": "6c603363-f43e-4100-88f9-6914b3707d42",
   "metadata": {},
   "outputs": [
    {
     "name": "stdout",
     "output_type": "stream",
     "text": [
      "Overwriting Dockerfile\n"
     ]
    }
   ],
   "source": [
    "%%writefile Dockerfile\n",
    "# Use uv's ARM64 Python base image\n",
    "FROM --platform=linux/arm64 ghcr.io/astral-sh/uv:python3.11-bookworm-slim\n",
    "\n",
    "WORKDIR /app\n",
    "\n",
    "# Copy uv files\n",
    "COPY requirements.txt .\n",
    "\n",
    "# Install dependencies (including strands-agents)\n",
    "#RUN pip install -r requirements.txt\n",
    "RUN pip install --no-cache-dir -r requirements.txt\n",
    "\n",
    "# Copy agent file\n",
    "COPY weather_agent_strands_wo_toolkit.py ./\n",
    "\n",
    "# Expose port\n",
    "EXPOSE 8080\n",
    "\n",
    "# Run application\n",
    "CMD [\"uv\", \"run\", \"uvicorn\", \"weather_agent_strands_wo_toolkit:app\", \"--host\", \"0.0.0.0\", \"--port\", \"8080\"]"
   ]
  },
  {
   "cell_type": "code",
   "execution_count": 16,
   "id": "2f7e01a9-7d09-4f0a-8cd3-97784a1a07a7",
   "metadata": {},
   "outputs": [
    {
     "name": "stdout",
     "output_type": "stream",
     "text": [
      "musing_kilby\n"
     ]
    }
   ],
   "source": [
    "!docker buildx create --use"
   ]
  },
  {
   "cell_type": "code",
   "execution_count": 17,
   "id": "606d2f86-0759-427f-bea7-22f14b82fe3b",
   "metadata": {
    "scrolled": true
   },
   "outputs": [
    {
     "name": "stdout",
     "output_type": "stream",
     "text": [
      "sha256:9cd71e1b8b14715e5f0cef3137d38df23ac2c7e92919d60738b9e74e156f7a88\n"
     ]
    }
   ],
   "source": [
    "!docker buildx build --quiet --platform linux/arm64 -t weather-agent:arm64 --load ."
   ]
  },
  {
   "cell_type": "code",
   "execution_count": 18,
   "id": "58952d29-58c1-4f65-b595-1e3ea43f8f57",
   "metadata": {},
   "outputs": [
    {
     "name": "stdout",
     "output_type": "stream",
     "text": [
      "\n",
      "An error occurred (RepositoryAlreadyExistsException) when calling the CreateRepository operation: The repository with name 'weather_agent_strands_wo_starter' already exists in the registry with id '135808924095'\n"
     ]
    }
   ],
   "source": [
    "!aws ecr create-repository --repository-name {agent_name} --region {region}"
   ]
  },
  {
   "cell_type": "code",
   "execution_count": 19,
   "id": "75c53ad0-35ef-4118-9f77-058e67635d3a",
   "metadata": {},
   "outputs": [
    {
     "name": "stdout",
     "output_type": "stream",
     "text": [
      "Login Succeeded\n"
     ]
    }
   ],
   "source": [
    "!aws ecr get-login-password --region {region} | docker login --username AWS --password-stdin {account_id}.dkr.ecr.us-west-2.amazonaws.com"
   ]
  },
  {
   "cell_type": "code",
   "execution_count": 22,
   "id": "fb1ecda0-9946-488f-a1ab-99007a80c2d4",
   "metadata": {
    "scrolled": true
   },
   "outputs": [
    {
     "name": "stdout",
     "output_type": "stream",
     "text": [
      "\u001b[1A\u001b[1B\u001b[0G\u001b[?25l[+] Building 0.0s (0/0)         docker-container:musing_kilby\n",
      "\u001b[?25h\u001b[1A\u001b[0G\u001b[?25l[+] Building 0.0s (0/1)                           docker-container:musing_kilby\n",
      "\u001b[?25h\u001b[1A\u001b[0G\u001b[?25l[+] Building 0.2s (1/2)                           docker-container:musing_kilby\n",
      "\u001b[34m => [internal] load build definition from Dockerfile                       0.0s\n",
      "\u001b[0m\u001b[34m => => transferring dockerfile: 596B                                       0.0s\n",
      "\u001b[0m => WARN: FromPlatformFlagConstDisallowed: FROM --platform flag should no  0.0s\n",
      " => [internal] load metadata for ghcr.io/astral-sh/uv:python3.11-bookworm  0.2s\n",
      "\u001b[?25h\u001b[1A\u001b[1A\u001b[1A\u001b[1A\u001b[1A\u001b[0G\u001b[?25l[+] Building 0.3s (1/2)                           docker-container:musing_kilby\n",
      "\u001b[34m => [internal] load build definition from Dockerfile                       0.0s\n",
      "\u001b[0m\u001b[34m => => transferring dockerfile: 596B                                       0.0s\n",
      "\u001b[0m => WARN: FromPlatformFlagConstDisallowed: FROM --platform flag should no  0.0s\n",
      " => [internal] load metadata for ghcr.io/astral-sh/uv:python3.11-bookworm  0.3s\n",
      "\u001b[?25h\u001b[1A\u001b[1A\u001b[1A\u001b[1A\u001b[1A\u001b[0G\u001b[?25l[+] Building 0.4s (2/2)                           docker-container:musing_kilby\n",
      "\u001b[34m => [internal] load build definition from Dockerfile                       0.0s\n",
      "\u001b[0m\u001b[34m => => transferring dockerfile: 596B                                       0.0s\n",
      "\u001b[0m => WARN: FromPlatformFlagConstDisallowed: FROM --platform flag should no  0.0s\n",
      "\u001b[34m => [internal] load metadata for ghcr.io/astral-sh/uv:python3.11-bookworm  0.4s\n",
      "\u001b[0m\u001b[?25h\u001b[1A\u001b[1A\u001b[1A\u001b[1A\u001b[1A\u001b[0G\u001b[?25l[+] Building 0.6s (9/11)                          docker-container:musing_kilby\n",
      "\u001b[34m => [internal] load build definition from Dockerfile                       0.0s\n",
      "\u001b[0m\u001b[34m => => transferring dockerfile: 596B                                       0.0s\n",
      "\u001b[0m => WARN: FromPlatformFlagConstDisallowed: FROM --platform flag should no  0.0s\n",
      "\u001b[34m => [internal] load metadata for ghcr.io/astral-sh/uv:python3.11-bookworm  0.4s\n",
      "\u001b[0m\u001b[34m => [internal] load .dockerignore                                          0.0s\n",
      "\u001b[0m\u001b[34m => => transferring context: 781B                                          0.0s\n",
      "\u001b[0m\u001b[34m => [1/5] FROM ghcr.io/astral-sh/uv:python3.11-bookworm-slim@sha256:2617b  0.0s\n",
      "\u001b[0m\u001b[34m => => resolve ghcr.io/astral-sh/uv:python3.11-bookworm-slim@sha256:2617b  0.0s\n",
      "\u001b[0m\u001b[34m => [internal] load build context                                          0.0s\n",
      "\u001b[0m\u001b[34m => => transferring context: 166B                                          0.0s\n",
      "\u001b[0m\u001b[34m => CACHED [2/5] WORKDIR /app                                              0.0s\n",
      "\u001b[0m\u001b[34m => CACHED [3/5] COPY requirements.txt .                                   0.0s\n",
      "\u001b[0m\u001b[34m => CACHED [4/5] RUN pip install --no-cache-dir -r requirements.txt        0.0s\n",
      "\u001b[0m\u001b[34m => CACHED [5/5] COPY weather_agent_strands_wo_toolkit.py ./               0.0s\n",
      "\u001b[0m => exporting to image                                                     0.1s\n",
      "\u001b[34m => => exporting layers                                                    0.0s\n",
      "\u001b[0m\u001b[34m => => exporting manifest sha256:2a75a9225bba87c5977b1a27701209cfa47ec543  0.0s\n",
      "\u001b[0m\u001b[34m => => exporting config sha256:9cd71e1b8b14715e5f0cef3137d38df23ac2c7e929  0.0s\n",
      "\u001b[0m\u001b[34m => => exporting attestation manifest sha256:ac14929938635579fe88c97c2f4e  0.0s\n",
      "\u001b[0m\u001b[34m => => exporting manifest list sha256:720fa1f31830399029aa0b82ce23961b593  0.0s\n",
      "\u001b[0m => => pushing layers                                                      0.1s\n",
      " => [auth] sharing credentials for 135808924095.dkr.ecr.us-west-2.amazona  0.0s\n",
      "\u001b[?25h\u001b[1A\u001b[1A\u001b[1A\u001b[1A\u001b[1A\u001b[1A\u001b[1A\u001b[1A\u001b[1A\u001b[1A\u001b[1A\u001b[1A\u001b[1A\u001b[1A\u001b[1A\u001b[1A\u001b[1A\u001b[1A\u001b[1A\u001b[1A\u001b[1A\u001b[1A\u001b[1A\u001b[0G\u001b[?25l[+] Building 0.7s (10/11)                         docker-container:musing_kilby\n",
      "\u001b[34m => [internal] load build definition from Dockerfile                       0.0s\n",
      "\u001b[0m\u001b[34m => => transferring dockerfile: 596B                                       0.0s\n",
      "\u001b[0m => WARN: FromPlatformFlagConstDisallowed: FROM --platform flag should no  0.0s\n",
      "\u001b[34m => [internal] load metadata for ghcr.io/astral-sh/uv:python3.11-bookworm  0.4s\n",
      "\u001b[0m\u001b[34m => [internal] load .dockerignore                                          0.0s\n",
      "\u001b[0m\u001b[34m => => transferring context: 781B                                          0.0s\n",
      "\u001b[0m\u001b[34m => [1/5] FROM ghcr.io/astral-sh/uv:python3.11-bookworm-slim@sha256:2617b  0.0s\n",
      "\u001b[0m\u001b[34m => => resolve ghcr.io/astral-sh/uv:python3.11-bookworm-slim@sha256:2617b  0.0s\n",
      "\u001b[0m\u001b[34m => [internal] load build context                                          0.0s\n",
      "\u001b[0m\u001b[34m => => transferring context: 166B                                          0.0s\n",
      "\u001b[0m\u001b[34m => CACHED [2/5] WORKDIR /app                                              0.0s\n",
      "\u001b[0m\u001b[34m => CACHED [3/5] COPY requirements.txt .                                   0.0s\n",
      "\u001b[0m\u001b[34m => CACHED [4/5] RUN pip install --no-cache-dir -r requirements.txt        0.0s\n",
      "\u001b[0m\u001b[34m => CACHED [5/5] COPY weather_agent_strands_wo_toolkit.py ./               0.0s\n",
      "\u001b[0m => exporting to image                                                     0.3s\n",
      "\u001b[34m => => exporting layers                                                    0.0s\n",
      "\u001b[0m\u001b[34m => => exporting manifest sha256:2a75a9225bba87c5977b1a27701209cfa47ec543  0.0s\n",
      "\u001b[0m\u001b[34m => => exporting config sha256:9cd71e1b8b14715e5f0cef3137d38df23ac2c7e929  0.0s\n",
      "\u001b[0m\u001b[34m => => exporting attestation manifest sha256:ac14929938635579fe88c97c2f4e  0.0s\n",
      "\u001b[0m\u001b[34m => => exporting manifest list sha256:720fa1f31830399029aa0b82ce23961b593  0.0s\n",
      "\u001b[0m => => pushing layers                                                      0.2s\n",
      "\u001b[34m => [auth] sharing credentials for 135808924095.dkr.ecr.us-west-2.amazona  0.0s\n",
      "\u001b[0m\u001b[?25h\u001b[1A\u001b[1A\u001b[1A\u001b[1A\u001b[1A\u001b[1A\u001b[1A\u001b[1A\u001b[1A\u001b[1A\u001b[1A\u001b[1A\u001b[1A\u001b[1A\u001b[1A\u001b[1A\u001b[1A\u001b[1A\u001b[1A\u001b[1A\u001b[1A\u001b[1A\u001b[1A\u001b[0G\u001b[?25l[+] Building 0.9s (10/11)                         docker-container:musing_kilby\n",
      "\u001b[34m => [internal] load build definition from Dockerfile                       0.0s\n",
      "\u001b[0m\u001b[34m => => transferring dockerfile: 596B                                       0.0s\n",
      "\u001b[0m => WARN: FromPlatformFlagConstDisallowed: FROM --platform flag should no  0.0s\n",
      "\u001b[34m => [internal] load metadata for ghcr.io/astral-sh/uv:python3.11-bookworm  0.4s\n",
      "\u001b[0m\u001b[34m => [internal] load .dockerignore                                          0.0s\n",
      "\u001b[0m\u001b[34m => => transferring context: 781B                                          0.0s\n",
      "\u001b[0m\u001b[34m => [1/5] FROM ghcr.io/astral-sh/uv:python3.11-bookworm-slim@sha256:2617b  0.0s\n",
      "\u001b[0m\u001b[34m => => resolve ghcr.io/astral-sh/uv:python3.11-bookworm-slim@sha256:2617b  0.0s\n",
      "\u001b[0m\u001b[34m => [internal] load build context                                          0.0s\n",
      "\u001b[0m\u001b[34m => => transferring context: 166B                                          0.0s\n",
      "\u001b[0m\u001b[34m => CACHED [2/5] WORKDIR /app                                              0.0s\n",
      "\u001b[0m\u001b[34m => CACHED [3/5] COPY requirements.txt .                                   0.0s\n",
      "\u001b[0m\u001b[34m => CACHED [4/5] RUN pip install --no-cache-dir -r requirements.txt        0.0s\n",
      "\u001b[0m\u001b[34m => CACHED [5/5] COPY weather_agent_strands_wo_toolkit.py ./               0.0s\n",
      "\u001b[0m => exporting to image                                                     0.4s\n",
      "\u001b[34m => => exporting layers                                                    0.0s\n",
      "\u001b[0m\u001b[34m => => exporting manifest sha256:2a75a9225bba87c5977b1a27701209cfa47ec543  0.0s\n",
      "\u001b[0m\u001b[34m => => exporting config sha256:9cd71e1b8b14715e5f0cef3137d38df23ac2c7e929  0.0s\n",
      "\u001b[0m\u001b[34m => => exporting attestation manifest sha256:ac14929938635579fe88c97c2f4e  0.0s\n",
      "\u001b[0m\u001b[34m => => exporting manifest list sha256:720fa1f31830399029aa0b82ce23961b593  0.0s\n",
      "\u001b[0m => => pushing layers                                                      0.4s\n",
      "\u001b[34m => [auth] sharing credentials for 135808924095.dkr.ecr.us-west-2.amazona  0.0s\n",
      "\u001b[0m\u001b[?25h\u001b[1A\u001b[1A\u001b[1A\u001b[1A\u001b[1A\u001b[1A\u001b[1A\u001b[1A\u001b[1A\u001b[1A\u001b[1A\u001b[1A\u001b[1A\u001b[1A\u001b[1A\u001b[1A\u001b[1A\u001b[1A\u001b[1A\u001b[1A\u001b[1A\u001b[1A\u001b[1A\u001b[0G\u001b[?25l[+] Building 1.0s (10/11)                         docker-container:musing_kilby\n",
      "\u001b[34m => [internal] load build definition from Dockerfile                       0.0s\n",
      "\u001b[0m\u001b[34m => => transferring dockerfile: 596B                                       0.0s\n",
      "\u001b[0m => WARN: FromPlatformFlagConstDisallowed: FROM --platform flag should no  0.0s\n",
      "\u001b[34m => [internal] load metadata for ghcr.io/astral-sh/uv:python3.11-bookworm  0.4s\n",
      "\u001b[0m\u001b[34m => [internal] load .dockerignore                                          0.0s\n",
      "\u001b[0m\u001b[34m => => transferring context: 781B                                          0.0s\n",
      "\u001b[0m\u001b[34m => [1/5] FROM ghcr.io/astral-sh/uv:python3.11-bookworm-slim@sha256:2617b  0.0s\n",
      "\u001b[0m\u001b[34m => => resolve ghcr.io/astral-sh/uv:python3.11-bookworm-slim@sha256:2617b  0.0s\n",
      "\u001b[0m\u001b[34m => [internal] load build context                                          0.0s\n",
      "\u001b[0m\u001b[34m => => transferring context: 166B                                          0.0s\n",
      "\u001b[0m\u001b[34m => CACHED [2/5] WORKDIR /app                                              0.0s\n",
      "\u001b[0m\u001b[34m => CACHED [3/5] COPY requirements.txt .                                   0.0s\n",
      "\u001b[0m\u001b[34m => CACHED [4/5] RUN pip install --no-cache-dir -r requirements.txt        0.0s\n",
      "\u001b[0m\u001b[34m => CACHED [5/5] COPY weather_agent_strands_wo_toolkit.py ./               0.0s\n",
      "\u001b[0m => exporting to image                                                     0.6s\n",
      "\u001b[34m => => exporting layers                                                    0.0s\n",
      "\u001b[0m\u001b[34m => => exporting manifest sha256:2a75a9225bba87c5977b1a27701209cfa47ec543  0.0s\n",
      "\u001b[0m\u001b[34m => => exporting config sha256:9cd71e1b8b14715e5f0cef3137d38df23ac2c7e929  0.0s\n",
      "\u001b[0m\u001b[34m => => exporting attestation manifest sha256:ac14929938635579fe88c97c2f4e  0.0s\n",
      "\u001b[0m\u001b[34m => => exporting manifest list sha256:720fa1f31830399029aa0b82ce23961b593  0.0s\n",
      "\u001b[0m => => pushing layers                                                      0.5s\n",
      "\u001b[34m => [auth] sharing credentials for 135808924095.dkr.ecr.us-west-2.amazona  0.0s\n",
      "\u001b[0m\u001b[?25h\u001b[1A\u001b[1A\u001b[1A\u001b[1A\u001b[1A\u001b[1A\u001b[1A\u001b[1A\u001b[1A\u001b[1A\u001b[1A\u001b[1A\u001b[1A\u001b[1A\u001b[1A\u001b[1A\u001b[1A\u001b[1A\u001b[1A\u001b[1A\u001b[1A\u001b[1A\u001b[1A\u001b[0G\u001b[?25l[+] Building 1.1s (10/11)                         docker-container:musing_kilby\n",
      "\u001b[34m => => transferring dockerfile: 596B                                       0.0s\n",
      "\u001b[0m => WARN: FromPlatformFlagConstDisallowed: FROM --platform flag should no  0.0s\n",
      "\u001b[34m => [internal] load metadata for ghcr.io/astral-sh/uv:python3.11-bookworm  0.4s\n",
      "\u001b[0m\u001b[34m => [internal] load .dockerignore                                          0.0s\n",
      "\u001b[0m\u001b[34m => => transferring context: 781B                                          0.0s\n",
      "\u001b[0m\u001b[34m => [1/5] FROM ghcr.io/astral-sh/uv:python3.11-bookworm-slim@sha256:2617b  0.0s\n",
      "\u001b[0m\u001b[34m => => resolve ghcr.io/astral-sh/uv:python3.11-bookworm-slim@sha256:2617b  0.0s\n",
      "\u001b[0m\u001b[34m => [internal] load build context                                          0.0s\n",
      "\u001b[0m\u001b[34m => => transferring context: 166B                                          0.0s\n",
      "\u001b[0m\u001b[34m => CACHED [2/5] WORKDIR /app                                              0.0s\n",
      "\u001b[0m\u001b[34m => CACHED [3/5] COPY requirements.txt .                                   0.0s\n",
      "\u001b[0m\u001b[34m => CACHED [4/5] RUN pip install --no-cache-dir -r requirements.txt        0.0s\n",
      "\u001b[0m\u001b[34m => CACHED [5/5] COPY weather_agent_strands_wo_toolkit.py ./               0.0s\n",
      "\u001b[0m => exporting to image                                                     0.7s\n",
      "\u001b[34m => => exporting layers                                                    0.0s\n",
      "\u001b[0m\u001b[34m => => exporting manifest sha256:2a75a9225bba87c5977b1a27701209cfa47ec543  0.0s\n",
      "\u001b[0m\u001b[34m => => exporting config sha256:9cd71e1b8b14715e5f0cef3137d38df23ac2c7e929  0.0s\n",
      "\u001b[0m\u001b[34m => => exporting attestation manifest sha256:ac14929938635579fe88c97c2f4e  0.0s\n",
      "\u001b[0m\u001b[34m => => exporting manifest list sha256:720fa1f31830399029aa0b82ce23961b593  0.0s\n",
      "\u001b[0m\u001b[34m => => pushing layers                                                      0.7s\n",
      "\u001b[0m => => pushing manifest for 135808924095.dkr.ecr.us-west-2.amazonaws.com/  0.0s\n",
      "\u001b[34m => [auth] sharing credentials for 135808924095.dkr.ecr.us-west-2.amazona  0.0s\n",
      "\u001b[0m\u001b[?25h\u001b[1A\u001b[1A\u001b[1A\u001b[1A\u001b[1A\u001b[1A\u001b[1A\u001b[1A\u001b[1A\u001b[1A\u001b[1A\u001b[1A\u001b[1A\u001b[1A\u001b[1A\u001b[1A\u001b[1A\u001b[1A\u001b[1A\u001b[1A\u001b[1A\u001b[1A\u001b[1A\u001b[0G\u001b[?25l[+] Building 1.3s (10/11)                         docker-container:musing_kilby\n",
      "\u001b[34m => => transferring dockerfile: 596B                                       0.0s\n",
      "\u001b[0m => WARN: FromPlatformFlagConstDisallowed: FROM --platform flag should no  0.0s\n",
      "\u001b[34m => [internal] load metadata for ghcr.io/astral-sh/uv:python3.11-bookworm  0.4s\n",
      "\u001b[0m\u001b[34m => [internal] load .dockerignore                                          0.0s\n",
      "\u001b[0m\u001b[34m => => transferring context: 781B                                          0.0s\n",
      "\u001b[0m\u001b[34m => [1/5] FROM ghcr.io/astral-sh/uv:python3.11-bookworm-slim@sha256:2617b  0.0s\n",
      "\u001b[0m\u001b[34m => => resolve ghcr.io/astral-sh/uv:python3.11-bookworm-slim@sha256:2617b  0.0s\n",
      "\u001b[0m\u001b[34m => [internal] load build context                                          0.0s\n",
      "\u001b[0m\u001b[34m => => transferring context: 166B                                          0.0s\n",
      "\u001b[0m\u001b[34m => CACHED [2/5] WORKDIR /app                                              0.0s\n",
      "\u001b[0m\u001b[34m => CACHED [3/5] COPY requirements.txt .                                   0.0s\n",
      "\u001b[0m\u001b[34m => CACHED [4/5] RUN pip install --no-cache-dir -r requirements.txt        0.0s\n",
      "\u001b[0m\u001b[34m => CACHED [5/5] COPY weather_agent_strands_wo_toolkit.py ./               0.0s\n",
      "\u001b[0m => exporting to image                                                     0.8s\n",
      "\u001b[34m => => exporting layers                                                    0.0s\n",
      "\u001b[0m\u001b[34m => => exporting manifest sha256:2a75a9225bba87c5977b1a27701209cfa47ec543  0.0s\n",
      "\u001b[0m\u001b[34m => => exporting config sha256:9cd71e1b8b14715e5f0cef3137d38df23ac2c7e929  0.0s\n",
      "\u001b[0m\u001b[34m => => exporting attestation manifest sha256:ac14929938635579fe88c97c2f4e  0.0s\n",
      "\u001b[0m\u001b[34m => => exporting manifest list sha256:720fa1f31830399029aa0b82ce23961b593  0.0s\n",
      "\u001b[0m\u001b[34m => => pushing layers                                                      0.7s\n",
      "\u001b[0m => => pushing manifest for 135808924095.dkr.ecr.us-west-2.amazonaws.com/  0.2s\n",
      "\u001b[34m => [auth] sharing credentials for 135808924095.dkr.ecr.us-west-2.amazona  0.0s\n",
      "\u001b[0m\u001b[?25h\u001b[1A\u001b[1A\u001b[1A\u001b[1A\u001b[1A\u001b[1A\u001b[1A\u001b[1A\u001b[1A\u001b[1A\u001b[1A\u001b[1A\u001b[1A\u001b[1A\u001b[1A\u001b[1A\u001b[1A\u001b[1A\u001b[1A\u001b[1A\u001b[1A\u001b[1A\u001b[1A\u001b[0G\u001b[?25l[+] Building 1.4s (10/11)                         docker-container:musing_kilby\n",
      "\u001b[34m => => transferring dockerfile: 596B                                       0.0s\n",
      "\u001b[0m => WARN: FromPlatformFlagConstDisallowed: FROM --platform flag should no  0.0s\n",
      "\u001b[34m => [internal] load metadata for ghcr.io/astral-sh/uv:python3.11-bookworm  0.4s\n",
      "\u001b[0m\u001b[34m => [internal] load .dockerignore                                          0.0s\n",
      "\u001b[0m\u001b[34m => => transferring context: 781B                                          0.0s\n",
      "\u001b[0m\u001b[34m => [1/5] FROM ghcr.io/astral-sh/uv:python3.11-bookworm-slim@sha256:2617b  0.0s\n",
      "\u001b[0m\u001b[34m => => resolve ghcr.io/astral-sh/uv:python3.11-bookworm-slim@sha256:2617b  0.0s\n",
      "\u001b[0m\u001b[34m => [internal] load build context                                          0.0s\n",
      "\u001b[0m\u001b[34m => => transferring context: 166B                                          0.0s\n",
      "\u001b[0m\u001b[34m => CACHED [2/5] WORKDIR /app                                              0.0s\n",
      "\u001b[0m\u001b[34m => CACHED [3/5] COPY requirements.txt .                                   0.0s\n",
      "\u001b[0m\u001b[34m => CACHED [4/5] RUN pip install --no-cache-dir -r requirements.txt        0.0s\n",
      "\u001b[0m\u001b[34m => CACHED [5/5] COPY weather_agent_strands_wo_toolkit.py ./               0.0s\n",
      "\u001b[0m => exporting to image                                                     1.0s\n",
      "\u001b[34m => => exporting layers                                                    0.0s\n",
      "\u001b[0m\u001b[34m => => exporting manifest sha256:2a75a9225bba87c5977b1a27701209cfa47ec543  0.0s\n",
      "\u001b[0m\u001b[34m => => exporting config sha256:9cd71e1b8b14715e5f0cef3137d38df23ac2c7e929  0.0s\n",
      "\u001b[0m\u001b[34m => => exporting attestation manifest sha256:ac14929938635579fe88c97c2f4e  0.0s\n",
      "\u001b[0m\u001b[34m => => exporting manifest list sha256:720fa1f31830399029aa0b82ce23961b593  0.0s\n",
      "\u001b[0m\u001b[34m => => pushing layers                                                      0.7s\n",
      "\u001b[0m => => pushing manifest for 135808924095.dkr.ecr.us-west-2.amazonaws.com/  0.3s\n",
      "\u001b[34m => [auth] sharing credentials for 135808924095.dkr.ecr.us-west-2.amazona  0.0s\n",
      "\u001b[0m\u001b[?25h\u001b[1A\u001b[1A\u001b[1A\u001b[1A\u001b[1A\u001b[1A\u001b[1A\u001b[1A\u001b[1A\u001b[1A\u001b[1A\u001b[1A\u001b[1A\u001b[1A\u001b[1A\u001b[1A\u001b[1A\u001b[1A\u001b[1A\u001b[1A\u001b[1A\u001b[1A\u001b[1A\u001b[0G\u001b[?25l[+] Building 1.6s (10/11)                         docker-container:musing_kilby\n",
      "\u001b[34m => => transferring dockerfile: 596B                                       0.0s\n",
      "\u001b[0m => WARN: FromPlatformFlagConstDisallowed: FROM --platform flag should no  0.0s\n",
      "\u001b[34m => [internal] load metadata for ghcr.io/astral-sh/uv:python3.11-bookworm  0.4s\n",
      "\u001b[0m\u001b[34m => [internal] load .dockerignore                                          0.0s\n",
      "\u001b[0m\u001b[34m => => transferring context: 781B                                          0.0s\n",
      "\u001b[0m\u001b[34m => [1/5] FROM ghcr.io/astral-sh/uv:python3.11-bookworm-slim@sha256:2617b  0.0s\n",
      "\u001b[0m\u001b[34m => => resolve ghcr.io/astral-sh/uv:python3.11-bookworm-slim@sha256:2617b  0.0s\n",
      "\u001b[0m\u001b[34m => [internal] load build context                                          0.0s\n",
      "\u001b[0m\u001b[34m => => transferring context: 166B                                          0.0s\n",
      "\u001b[0m\u001b[34m => CACHED [2/5] WORKDIR /app                                              0.0s\n",
      "\u001b[0m\u001b[34m => CACHED [3/5] COPY requirements.txt .                                   0.0s\n",
      "\u001b[0m\u001b[34m => CACHED [4/5] RUN pip install --no-cache-dir -r requirements.txt        0.0s\n",
      "\u001b[0m\u001b[34m => CACHED [5/5] COPY weather_agent_strands_wo_toolkit.py ./               0.0s\n",
      "\u001b[0m => exporting to image                                                     1.1s\n",
      "\u001b[34m => => exporting layers                                                    0.0s\n",
      "\u001b[0m\u001b[34m => => exporting manifest sha256:2a75a9225bba87c5977b1a27701209cfa47ec543  0.0s\n",
      "\u001b[0m\u001b[34m => => exporting config sha256:9cd71e1b8b14715e5f0cef3137d38df23ac2c7e929  0.0s\n",
      "\u001b[0m\u001b[34m => => exporting attestation manifest sha256:ac14929938635579fe88c97c2f4e  0.0s\n",
      "\u001b[0m\u001b[34m => => exporting manifest list sha256:720fa1f31830399029aa0b82ce23961b593  0.0s\n",
      "\u001b[0m\u001b[34m => => pushing layers                                                      0.7s\n",
      "\u001b[0m => => pushing manifest for 135808924095.dkr.ecr.us-west-2.amazonaws.com/  0.5s\n",
      "\u001b[34m => [auth] sharing credentials for 135808924095.dkr.ecr.us-west-2.amazona  0.0s\n",
      "\u001b[0m\u001b[?25h\u001b[1A\u001b[1A\u001b[1A\u001b[1A\u001b[1A\u001b[1A\u001b[1A\u001b[1A\u001b[1A\u001b[1A\u001b[1A\u001b[1A\u001b[1A\u001b[1A\u001b[1A\u001b[1A\u001b[1A\u001b[1A\u001b[1A\u001b[1A\u001b[1A\u001b[1A\u001b[1A\u001b[0G\u001b[?25l[+] Building 1.7s (10/11)                         docker-container:musing_kilby\n",
      "\u001b[34m => => transferring dockerfile: 596B                                       0.0s\n",
      "\u001b[0m => WARN: FromPlatformFlagConstDisallowed: FROM --platform flag should no  0.0s\n",
      "\u001b[34m => [internal] load metadata for ghcr.io/astral-sh/uv:python3.11-bookworm  0.4s\n",
      "\u001b[0m\u001b[34m => [internal] load .dockerignore                                          0.0s\n",
      "\u001b[0m\u001b[34m => => transferring context: 781B                                          0.0s\n",
      "\u001b[0m\u001b[34m => [1/5] FROM ghcr.io/astral-sh/uv:python3.11-bookworm-slim@sha256:2617b  0.0s\n",
      "\u001b[0m\u001b[34m => => resolve ghcr.io/astral-sh/uv:python3.11-bookworm-slim@sha256:2617b  0.0s\n",
      "\u001b[0m\u001b[34m => [internal] load build context                                          0.0s\n",
      "\u001b[0m\u001b[34m => => transferring context: 166B                                          0.0s\n",
      "\u001b[0m\u001b[34m => CACHED [2/5] WORKDIR /app                                              0.0s\n",
      "\u001b[0m\u001b[34m => CACHED [3/5] COPY requirements.txt .                                   0.0s\n",
      "\u001b[0m\u001b[34m => CACHED [4/5] RUN pip install --no-cache-dir -r requirements.txt        0.0s\n",
      "\u001b[0m\u001b[34m => CACHED [5/5] COPY weather_agent_strands_wo_toolkit.py ./               0.0s\n",
      "\u001b[0m => exporting to image                                                     1.3s\n",
      "\u001b[34m => => exporting layers                                                    0.0s\n",
      "\u001b[0m\u001b[34m => => exporting manifest sha256:2a75a9225bba87c5977b1a27701209cfa47ec543  0.0s\n",
      "\u001b[0m\u001b[34m => => exporting config sha256:9cd71e1b8b14715e5f0cef3137d38df23ac2c7e929  0.0s\n",
      "\u001b[0m\u001b[34m => => exporting attestation manifest sha256:ac14929938635579fe88c97c2f4e  0.0s\n",
      "\u001b[0m\u001b[34m => => exporting manifest list sha256:720fa1f31830399029aa0b82ce23961b593  0.0s\n",
      "\u001b[0m\u001b[34m => => pushing layers                                                      0.7s\n",
      "\u001b[0m => => pushing manifest for 135808924095.dkr.ecr.us-west-2.amazonaws.com/  0.6s\n",
      "\u001b[34m => [auth] sharing credentials for 135808924095.dkr.ecr.us-west-2.amazona  0.0s\n",
      "\u001b[0m\u001b[?25h\u001b[1A\u001b[1A\u001b[1A\u001b[1A\u001b[1A\u001b[1A\u001b[1A\u001b[1A\u001b[1A\u001b[1A\u001b[1A\u001b[1A\u001b[1A\u001b[1A\u001b[1A\u001b[1A\u001b[1A\u001b[1A\u001b[1A\u001b[1A\u001b[1A\u001b[1A\u001b[1A\u001b[0G\u001b[?25l[+] Building 1.9s (10/11)                         docker-container:musing_kilby\n",
      "\u001b[34m => => transferring dockerfile: 596B                                       0.0s\n",
      "\u001b[0m => WARN: FromPlatformFlagConstDisallowed: FROM --platform flag should no  0.0s\n",
      "\u001b[34m => [internal] load metadata for ghcr.io/astral-sh/uv:python3.11-bookworm  0.4s\n",
      "\u001b[0m\u001b[34m => [internal] load .dockerignore                                          0.0s\n",
      "\u001b[0m\u001b[34m => => transferring context: 781B                                          0.0s\n",
      "\u001b[0m\u001b[34m => [1/5] FROM ghcr.io/astral-sh/uv:python3.11-bookworm-slim@sha256:2617b  0.0s\n",
      "\u001b[0m\u001b[34m => => resolve ghcr.io/astral-sh/uv:python3.11-bookworm-slim@sha256:2617b  0.0s\n",
      "\u001b[0m\u001b[34m => [internal] load build context                                          0.0s\n",
      "\u001b[0m\u001b[34m => => transferring context: 166B                                          0.0s\n",
      "\u001b[0m\u001b[34m => CACHED [2/5] WORKDIR /app                                              0.0s\n",
      "\u001b[0m\u001b[34m => CACHED [3/5] COPY requirements.txt .                                   0.0s\n",
      "\u001b[0m\u001b[34m => CACHED [4/5] RUN pip install --no-cache-dir -r requirements.txt        0.0s\n",
      "\u001b[0m\u001b[34m => CACHED [5/5] COPY weather_agent_strands_wo_toolkit.py ./               0.0s\n",
      "\u001b[0m => exporting to image                                                     1.4s\n",
      "\u001b[34m => => exporting layers                                                    0.0s\n",
      "\u001b[0m\u001b[34m => => exporting manifest sha256:2a75a9225bba87c5977b1a27701209cfa47ec543  0.0s\n",
      "\u001b[0m\u001b[34m => => exporting config sha256:9cd71e1b8b14715e5f0cef3137d38df23ac2c7e929  0.0s\n",
      "\u001b[0m\u001b[34m => => exporting attestation manifest sha256:ac14929938635579fe88c97c2f4e  0.0s\n",
      "\u001b[0m\u001b[34m => => exporting manifest list sha256:720fa1f31830399029aa0b82ce23961b593  0.0s\n",
      "\u001b[0m\u001b[34m => => pushing layers                                                      0.7s\n",
      "\u001b[0m => => pushing manifest for 135808924095.dkr.ecr.us-west-2.amazonaws.com/  0.8s\n",
      "\u001b[34m => [auth] sharing credentials for 135808924095.dkr.ecr.us-west-2.amazona  0.0s\n",
      "\u001b[0m\u001b[?25h\u001b[1A\u001b[1A\u001b[1A\u001b[1A\u001b[1A\u001b[1A\u001b[1A\u001b[1A\u001b[1A\u001b[1A\u001b[1A\u001b[1A\u001b[1A\u001b[1A\u001b[1A\u001b[1A\u001b[1A\u001b[1A\u001b[1A\u001b[1A\u001b[1A\u001b[1A\u001b[1A\u001b[0G\u001b[?25l[+] Building 2.0s (11/11)                         docker-container:musing_kilby\n",
      "\u001b[34m => => transferring dockerfile: 596B                                       0.0s\n",
      "\u001b[0m => WARN: FromPlatformFlagConstDisallowed: FROM --platform flag should no  0.0s\n",
      "\u001b[34m => [internal] load metadata for ghcr.io/astral-sh/uv:python3.11-bookworm  0.4s\n",
      "\u001b[0m\u001b[34m => [internal] load .dockerignore                                          0.0s\n",
      "\u001b[0m\u001b[34m => => transferring context: 781B                                          0.0s\n",
      "\u001b[0m\u001b[34m => [1/5] FROM ghcr.io/astral-sh/uv:python3.11-bookworm-slim@sha256:2617b  0.0s\n",
      "\u001b[0m\u001b[34m => => resolve ghcr.io/astral-sh/uv:python3.11-bookworm-slim@sha256:2617b  0.0s\n",
      "\u001b[0m\u001b[34m => [internal] load build context                                          0.0s\n",
      "\u001b[0m\u001b[34m => => transferring context: 166B                                          0.0s\n",
      "\u001b[0m\u001b[34m => CACHED [2/5] WORKDIR /app                                              0.0s\n",
      "\u001b[0m\u001b[34m => CACHED [3/5] COPY requirements.txt .                                   0.0s\n",
      "\u001b[0m\u001b[34m => CACHED [4/5] RUN pip install --no-cache-dir -r requirements.txt        0.0s\n",
      "\u001b[0m\u001b[34m => CACHED [5/5] COPY weather_agent_strands_wo_toolkit.py ./               0.0s\n",
      "\u001b[0m\u001b[34m => exporting to image                                                     1.6s\n",
      "\u001b[0m\u001b[34m => => exporting layers                                                    0.0s\n",
      "\u001b[0m\u001b[34m => => exporting manifest sha256:2a75a9225bba87c5977b1a27701209cfa47ec543  0.0s\n",
      "\u001b[0m\u001b[34m => => exporting config sha256:9cd71e1b8b14715e5f0cef3137d38df23ac2c7e929  0.0s\n",
      "\u001b[0m\u001b[34m => => exporting attestation manifest sha256:ac14929938635579fe88c97c2f4e  0.0s\n",
      "\u001b[0m\u001b[34m => => exporting manifest list sha256:720fa1f31830399029aa0b82ce23961b593  0.0s\n",
      "\u001b[0m\u001b[34m => => pushing layers                                                      0.7s\n",
      "\u001b[0m\u001b[34m => => pushing manifest for 135808924095.dkr.ecr.us-west-2.amazonaws.com/  0.9s\n",
      "\u001b[0m\u001b[34m => [auth] sharing credentials for 135808924095.dkr.ecr.us-west-2.amazona  0.0s\n",
      "\u001b[0m\u001b[?25h\u001b[1A\u001b[1A\u001b[1A\u001b[1A\u001b[1A\u001b[1A\u001b[1A\u001b[1A\u001b[1A\u001b[1A\u001b[1A\u001b[1A\u001b[1A\u001b[1A\u001b[1A\u001b[1A\u001b[1A\u001b[1A\u001b[1A\u001b[1A\u001b[1A\u001b[1A\u001b[1A\u001b[0G\u001b[?25l[+] Building 2.0s (11/11) FINISHED                docker-container:musing_kilby\n",
      "\u001b[34m => [internal] load build definition from Dockerfile                       0.0s\n",
      "\u001b[0m\u001b[34m => => transferring dockerfile: 596B                                       0.0s\n",
      "\u001b[0m => WARN: FromPlatformFlagConstDisallowed: FROM --platform flag should no  0.0s\n",
      "\u001b[34m => [internal] load metadata for ghcr.io/astral-sh/uv:python3.11-bookworm  0.4s\n",
      "\u001b[0m\u001b[34m => [internal] load .dockerignore                                          0.0s\n",
      "\u001b[0m\u001b[34m => => transferring context: 781B                                          0.0s\n",
      "\u001b[0m\u001b[34m => [1/5] FROM ghcr.io/astral-sh/uv:python3.11-bookworm-slim@sha256:2617b  0.0s\n",
      "\u001b[0m\u001b[34m => => resolve ghcr.io/astral-sh/uv:python3.11-bookworm-slim@sha256:2617b  0.0s\n",
      "\u001b[0m\u001b[34m => [internal] load build context                                          0.0s\n",
      "\u001b[0m\u001b[34m => => transferring context: 166B                                          0.0s\n",
      "\u001b[0m\u001b[34m => CACHED [2/5] WORKDIR /app                                              0.0s\n",
      "\u001b[0m\u001b[34m => CACHED [3/5] COPY requirements.txt .                                   0.0s\n",
      "\u001b[0m\u001b[34m => CACHED [4/5] RUN pip install --no-cache-dir -r requirements.txt        0.0s\n",
      "\u001b[0m\u001b[34m => CACHED [5/5] COPY weather_agent_strands_wo_toolkit.py ./               0.0s\n",
      "\u001b[0m\u001b[34m => exporting to image                                                     1.6s\n",
      "\u001b[0m\u001b[34m => => exporting layers                                                    0.0s\n",
      "\u001b[0m\u001b[34m => => exporting manifest sha256:2a75a9225bba87c5977b1a27701209cfa47ec543  0.0s\n",
      "\u001b[0m\u001b[34m => => exporting config sha256:9cd71e1b8b14715e5f0cef3137d38df23ac2c7e929  0.0s\n",
      "\u001b[0m\u001b[34m => => exporting attestation manifest sha256:ac14929938635579fe88c97c2f4e  0.0s\n",
      "\u001b[0m\u001b[34m => => exporting manifest list sha256:720fa1f31830399029aa0b82ce23961b593  0.0s\n",
      "\u001b[0m\u001b[34m => => pushing layers                                                      0.7s\n",
      "\u001b[0m\u001b[34m => => pushing manifest for 135808924095.dkr.ecr.us-west-2.amazonaws.com/  0.9s\n",
      "\u001b[0m\u001b[34m => [auth] sharing credentials for 135808924095.dkr.ecr.us-west-2.amazona  0.0s\n",
      "\u001b[0m\u001b[?25h\n",
      "View build details: \u001b]8;;docker-desktop://dashboard/build/musing_kilby/musing_kilby0/zzsz1oap1ojkyews71m00tzjl\u001b\\docker-desktop://dashboard/build/musing_kilby/musing_kilby0/zzsz1oap1ojkyews71m00tzjl\u001b]8;;\u001b\\\n",
      "\n",
      " \u001b[33m1 warning found (use docker --debug to expand):\n",
      "\u001b[0m - FromPlatformFlagConstDisallowed: FROM --platform flag should not use constant value \"linux/arm64\" (line 2)\n"
     ]
    }
   ],
   "source": [
    "!docker buildx build --platform linux/arm64 -t {account_id}.dkr.ecr.us-west-2.amazonaws.com/{agent_name}:latest --push ."
   ]
  },
  {
   "cell_type": "markdown",
   "id": "67356799-4e1b-4dfc-8e97-4cfae32f7ce8",
   "metadata": {},
   "source": [
    "#### Step 3 - Use Boto3 to create Agent on AgentCore Runtime"
   ]
  },
  {
   "cell_type": "code",
   "execution_count": 23,
   "id": "5e3ab605-b38b-491c-86a1-f3975e294872",
   "metadata": {},
   "outputs": [],
   "source": [
    "agentcore_control_client = boto3.client(\"bedrock-agentcore-control\", region_name=region)"
   ]
  },
  {
   "cell_type": "code",
   "execution_count": 24,
   "id": "90f6d757-a992-4dec-bba6-5253f047d263",
   "metadata": {},
   "outputs": [],
   "source": [
    "runtime_response = agentcore_control_client.create_agent_runtime(\n",
    "    agentRuntimeName = agent_name,\n",
    "    agentRuntimeArtifact={\n",
    "        'containerConfiguration': {\n",
    "            'containerUri': f'{account_id}.dkr.ecr.us-west-2.amazonaws.com/{agent_name}:latest'\n",
    "        }\n",
    "    },\n",
    "    networkConfiguration={\"networkMode\": \"PUBLIC\"},\n",
    "    roleArn=f'arn:aws:iam::{account_id}:role/{agentcore_role_name}'\n",
    ")"
   ]
  },
  {
   "cell_type": "code",
   "execution_count": 25,
   "id": "24283d8b-e419-4484-b992-4a52dd31bc71",
   "metadata": {},
   "outputs": [
    {
     "data": {
      "text/plain": [
       "'arn:aws:bedrock-agentcore:us-west-2:135808924095:runtime/weather_agent_strands_wo_starter-bguDoT3AvE'"
      ]
     },
     "execution_count": 25,
     "metadata": {},
     "output_type": "execute_result"
    }
   ],
   "source": [
    "runtime_response[\"agentRuntimeArn\"]"
   ]
  },
  {
   "attachments": {},
   "cell_type": "markdown",
   "id": "e9a3675f-dc34-4a08-8981-a12b8f8dc5f9",
   "metadata": {},
   "source": [
    "## Learning Objective 4: Invoke Agent\n",
    "<div style=\"text-align:left\">\n",
    "    <img src=\"./images/invoke.png\" width=\"60%\"/>\n",
    "</div>"
   ]
  },
  {
   "cell_type": "markdown",
   "id": "15ca085e-fd68-4cc7-a22c-28d7bcb87c88",
   "metadata": {},
   "source": [
    "### Option 1 - Using toolkit\n",
    "You can test the Agent that you have just deployed using the 'agentcore_runtime' object. Other two options (boto3 and HTTPS endpoint) are the options that you should use for production applications\n",
    "* Here we are invoking the first agent built using starter toolkit"
   ]
  },
  {
   "cell_type": "code",
   "execution_count": 26,
   "id": "12706f06-064b-46a7-a51d-4b58d9281c0b",
   "metadata": {},
   "outputs": [
    {
     "data": {
      "text/plain": [
       "{'ResponseMetadata': {'RequestId': '95898424-38ec-463f-bf61-316854bdee14',\n",
       "  'HTTPStatusCode': 200,\n",
       "  'HTTPHeaders': {'date': 'Sat, 09 Aug 2025 18:18:53 GMT',\n",
       "   'content-type': 'application/json',\n",
       "   'transfer-encoding': 'chunked',\n",
       "   'connection': 'keep-alive',\n",
       "   'x-amzn-requestid': '95898424-38ec-463f-bf61-316854bdee14',\n",
       "   'baggage': 'Self=1-68979109-524dac8748aed042255b347d,session.id=e7f5cb4a-02bc-479d-9cb8-c5d402ea24fe',\n",
       "   'x-amzn-bedrock-agentcore-runtime-session-id': 'e7f5cb4a-02bc-479d-9cb8-c5d402ea24fe',\n",
       "   'x-amzn-trace-id': 'Root=1-68979109-349fe0325e184c042e311518;Self=1-68979109-524dac8748aed042255b347d'},\n",
       "  'RetryAttempts': 0},\n",
       " 'runtimeSessionId': 'e7f5cb4a-02bc-479d-9cb8-c5d402ea24fe',\n",
       " 'traceId': 'Root=1-68979109-349fe0325e184c042e311518;Self=1-68979109-524dac8748aed042255b347d',\n",
       " 'baggage': 'Self=1-68979109-524dac8748aed042255b347d,session.id=e7f5cb4a-02bc-479d-9cb8-c5d402ea24fe',\n",
       " 'contentType': 'application/json',\n",
       " 'statusCode': 200,\n",
       " 'response': [b'\"The weather in Irvine is currently warm and sunny! It\\'s a beautiful day there.\\\\n\"']}"
      ]
     },
     "execution_count": 26,
     "metadata": {},
     "output_type": "execute_result"
    }
   ],
   "source": [
    "agentcore_runtime.invoke({\"prompt\": \"How is the weather in Irvine?\"})"
   ]
  },
  {
   "cell_type": "markdown",
   "id": "3d9968c2-625b-4389-88fd-364a81c3e8c9",
   "metadata": {},
   "source": [
    "### Option 2 - Using boto3\n",
    "* Invoking the second agent deployed using custom docker and agent code"
   ]
  },
  {
   "cell_type": "code",
   "execution_count": 27,
   "id": "a23706ef-8000-4cc4-9316-cd64cf7479bb",
   "metadata": {},
   "outputs": [
    {
     "name": "stdout",
     "output_type": "stream",
     "text": [
      "Agent Response: {'output': {'message': {'role': 'assistant', 'content': [{'text': 'The weather in Irvine is warm and sunny! It sounds like a beautiful day there.'}]}, 'timestamp': '2025-08-09T18:19:09.808314', 'model': 'strands-agent'}}\n"
     ]
    }
   ],
   "source": [
    "agentcore_client = boto3.client(\"bedrock-agentcore\", region_name = region)\n",
    "payload = json.dumps({\n",
    "    \"input\": {\"prompt\": \"How is the weather in Irvine?\"}\n",
    "})\n",
    "response = agentcore_client.invoke_agent_runtime(\n",
    "    agentRuntimeArn = runtime_response[\"agentRuntimeArn\"],\n",
    "    qualifier=\"DEFAULT\",\n",
    "    payload=payload\n",
    ")\n",
    "response_body = response['response'].read()\n",
    "response_data = json.loads(response_body)\n",
    "print(\"Agent Response:\", response_data)"
   ]
  },
  {
   "cell_type": "markdown",
   "id": "bd0c559e-02cd-4ce5-82b8-e86ac13f1c37",
   "metadata": {},
   "source": [
    "#### Option 3 - Using https endpoint\n",
    "* Invoking the second agent using `runtime_response[\"agentRuntimeArn\"]` as rthe ARN.\n",
    "* Can be used to invoke the first agent as well. Replace `runtime_response[\"agentRuntimeArn\"]` with `launch_response.agent_arn`"
   ]
  },
  {
   "cell_type": "code",
   "execution_count": 28,
   "id": "ccc359fe-eb5f-4da3-a1c8-3a04f8623d0a",
   "metadata": {},
   "outputs": [],
   "source": [
    "import urllib.parse, requests\n",
    "\n",
    "# URL encode the agent ARN\n",
    "escaped_agent_arn = urllib.parse.quote(runtime_response[\"agentRuntimeArn\"], safe='')\n",
    "\n",
    "# Construct the URL\n",
    "url = f\"https://bedrock-agentcore.{region}.amazonaws.com/runtimes/{escaped_agent_arn}/invocations?qualifier=DEFAULT\"\n",
    "http_response = requests.post(url, data=json.dumps(payload))"
   ]
  },
  {
   "cell_type": "code",
   "execution_count": 29,
   "id": "8d78d081-709d-4858-af6c-27c1ed8bb9c9",
   "metadata": {},
   "outputs": [
    {
     "data": {
      "text/plain": [
       "(403, '{\"message\":\"Missing Authentication Token\"}')"
      ]
     },
     "execution_count": 29,
     "metadata": {},
     "output_type": "execute_result"
    }
   ],
   "source": [
    "http_response.status_code, http_response.text"
   ]
  },
  {
   "cell_type": "markdown",
   "id": "4d8af141-ac3b-40df-9569-800bb65872ab",
   "metadata": {},
   "source": [
    "#### Why did we get a HTTP 403 (Forbidden)?\n",
    "While invoking an Agent using a toolkit and boto3 SDK, we are using the IAM role of the session to invoke the agenty. However, when you invoke it as a HTTPS endpoint, there is no authorization passed to the agent. Hence the 403 Forbidden error."
   ]
  },
  {
   "cell_type": "markdown",
   "id": "c46e98f3-770f-4b32-b75d-d5c157d8cfcb",
   "metadata": {},
   "source": [
    "## Learning Objective 5 - Tools accessing protected resources\n",
    "In this learning objective, we focus on authentication within the AgentCore ecosystem. In this objective we focus on authorization within an agent so that it can access protected resources. \n",
    "The credential management system supports multiple credential types including OAuth2 access tokens, API keys, client certificates, SAML assertions, and custom authentication tokens."
   ]
  },
  {
   "cell_type": "markdown",
   "id": "fe8ef925-0e60-4b8a-acde-4f30a629dca2",
   "metadata": {},
   "source": [
    "#### 1 - Tool authentication using API Key\n",
    "* Setup an API key credential provider for Tavily\n",
    "* Get the API key from credential provider at the start of the session"
   ]
  },
  {
   "cell_type": "markdown",
   "id": "d4e5486a-8304-4288-8c4a-6e248f19f671",
   "metadata": {},
   "source": [
    "##### Create credential provider\n",
    "* What they do: Act as smart middlemen that connect your agents to different services and identity systems\n",
    "* Built-in providers: Come ready-to-use for popular services like:\n",
    "  - Google\n",
    "  - GitHub  \n",
    "  - Slack\n",
    "  - Salesforce\n",
    "* Pre-configured: These providers already have the right settings and endpoints set up for you\n",
    "* Custom options: You can create your own providers for any service that uses OAuth2 authentication\n",
    "* Main benefit: Saves you time by handling the complex setup work automatically"
   ]
  },
  {
   "cell_type": "code",
   "execution_count": 32,
   "id": "98abde97-a1ab-44f4-82b4-398de48eb431",
   "metadata": {
    "scrolled": true
   },
   "outputs": [
    {
     "data": {
      "text/plain": [
       "{'ResponseMetadata': {'RequestId': 'c640501c-c2d6-4c6a-9c9d-dcffa5677837',\n",
       "  'HTTPStatusCode': 200,\n",
       "  'HTTPHeaders': {'date': 'Sat, 09 Aug 2025 18:20:23 GMT',\n",
       "   'content-type': 'application/json',\n",
       "   'content-length': '326',\n",
       "   'connection': 'keep-alive',\n",
       "   'x-amzn-requestid': 'c640501c-c2d6-4c6a-9c9d-dcffa5677837',\n",
       "   'x-amzn-remapped-x-amzn-requestid': 'a0983c69-261f-4fec-9b9f-c2e16d199041',\n",
       "   'x-amzn-remapped-content-length': '326',\n",
       "   'x-amzn-remapped-connection': 'keep-alive',\n",
       "   'x-amz-apigw-id': 'PDOoJGdsPHcEuBQ=',\n",
       "   'x-amzn-trace-id': 'Root=1-68979166-17f98d8159b4cbbe2f86b186',\n",
       "   'x-amzn-remapped-date': 'Sat, 09 Aug 2025 18:20:23 GMT'},\n",
       "  'RetryAttempts': 0},\n",
       " 'apiKeySecretArn': {'secretArn': 'arn:aws:secretsmanager:us-west-2:135808924095:secret:bedrock-agentcore-identity!default/apikey/tavily_key_provider-3yzalO'},\n",
       " 'name': 'tavily_key_provider',\n",
       " 'credentialProviderArn': 'arn:aws:bedrock-agentcore:us-west-2:135808924095:token-vault/default/apikeycredentialprovider/tavily_key_provider'}"
      ]
     },
     "execution_count": 32,
     "metadata": {},
     "output_type": "execute_result"
    }
   ],
   "source": [
    "import os\n",
    "#os.environ[\"tavily_key\"] = \"tvly-dev-tavily-api-key\"\n",
    "from bedrock_agentcore.services.identity import IdentityClient\n",
    "id_client = IdentityClient(region=region)\n",
    "id_client.create_api_key_credential_provider({\n",
    "    \"name\":\"tavily_key_provider\",\n",
    "    \"apiKey\":os.environ[\"tavily_key\"]\n",
    "})"
   ]
  },
  {
   "cell_type": "markdown",
   "id": "75dfcde5-8b37-45f3-ab8c-f5e218c7a57c",
   "metadata": {},
   "source": [
    "##### Use credential provider to get API key\n",
    "* You have API keys in the AgentCore Identity vault\n",
    "* Retrieve directly in your agent using the AgentCore SDK and the `@requires_api_key annotation`"
   ]
  },
  {
   "cell_type": "code",
   "execution_count": 33,
   "id": "7b309206-5623-4e9d-a2a0-bed550582603",
   "metadata": {},
   "outputs": [
    {
     "name": "stdout",
     "output_type": "stream",
     "text": [
      "Writing weather_agent_tavily.py\n"
     ]
    }
   ],
   "source": [
    "%%writefile weather_agent_tavily.py\n",
    "import argparse, json, os\n",
    "from strands import Agent, tool\n",
    "from bedrock_agentcore.runtime import BedrockAgentCoreApp\n",
    "from bedrock_agentcore.identity.auth import requires_api_key\n",
    "from tavily import TavilyClient\n",
    "import asyncio\n",
    "\n",
    "TAVILY_API_KEY_FROM_CREDS_PROVIDER = \"\"\n",
    "\n",
    "@requires_api_key(\n",
    "    provider_name=\"tavily_key_provider\", # replace with your own credential provider name\n",
    "    into=\"api_key\"\n",
    ")\n",
    "async def need_api_key(*, api_key: str):\n",
    "    global TAVILY_API_KEY_FROM_CREDS_PROVIDER\n",
    "    print(f'received api key for async func: {api_key}')\n",
    "    TAVILY_API_KEY_FROM_CREDS_PROVIDER = api_key\n",
    "\n",
    "app = BedrockAgentCoreApp()\n",
    "\n",
    "\n",
    "@tool\n",
    "def weather(city: str):\n",
    "    \"\"\"\n",
    "    Get weather for a given city\n",
    "    Params:\n",
    "        city: Name of the city you want the weather for\n",
    "    \"\"\"\n",
    "    tavily_client = TavilyClient(api_key=os.environ[\"TAVILY_API_KEY\"])\n",
    "    response = tavily_client.search(f\"What is current weather in {city}\")\n",
    "    return response\n",
    "    \n",
    "agent = Agent(tools=[weather])\n",
    "\n",
    "@app.entrypoint\n",
    "async def strands_agent_bedrock(payload):\n",
    "    \n",
    "    global TAVILY_API_KEY_FROM_CREDS_PROVIDER\n",
    "    if not TAVILY_API_KEY_FROM_CREDS_PROVIDER:\n",
    "        print(\"Attempting to retrieve API key...\")\n",
    "        try:\n",
    "            await need_api_key(api_key=\"\")\n",
    "            print(f\"API key retrieved: '{TAVILY_API_KEY_FROM_CREDS_PROVIDER}'\")\n",
    "            os.environ[\"TAVILY_API_KEY\"] = TAVILY_API_KEY_FROM_CREDS_PROVIDER\n",
    "            print(\"Environment variable TAVILY_API_KEY set\")\n",
    "        except Exception as e:\n",
    "            print(f\"Error retrieving API key: {e}\")\n",
    "            raise\n",
    "    else:\n",
    "        print(\"API key already available\")\n",
    "        \n",
    "    prompt = payload.get(\"prompt\",\"hello\")\n",
    "    response = agent(prompt)\n",
    "    return response\n",
    "\n",
    "if __name__ == \"__main__\":\n",
    "    app.run()"
   ]
  },
  {
   "cell_type": "code",
   "execution_count": 34,
   "id": "abfe3077-a8b4-4217-a9c1-bbe7cb366060",
   "metadata": {},
   "outputs": [
    {
     "name": "stderr",
     "output_type": "stream",
     "text": [
      "Bedrock AgentCore configured: /Users/dhegde/Documents/Code/AgentCore/GITHUB/amazon-bedrock-agentcore-samples/04-LearningPath/.bedrock_agentcore.yaml\n"
     ]
    }
   ],
   "source": [
    "agent_name = \"weather_agent_tavily\"\n",
    "from bedrock_agentcore_starter_toolkit import Runtime\n",
    "agentcore_runtime = Runtime()\n",
    "config_response = agentcore_runtime.configure(\n",
    "    entrypoint=\"weather_agent_tavily.py\",\n",
    "    execution_role=\"BedrockAgentCoreRole\",\n",
    "    auto_create_ecr=True,\n",
    "    requirements_file=\"requirements.txt\",\n",
    "    region=region,\n",
    "    agent_name=agent_name,\n",
    ")"
   ]
  },
  {
   "cell_type": "code",
   "execution_count": 35,
   "id": "b0acfbc5-9e59-4218-b6b5-c36fb2423992",
   "metadata": {
    "scrolled": true
   },
   "outputs": [
    {
     "name": "stderr",
     "output_type": "stream",
     "text": [
      "Build: #9 4.425 ERROR: pip's dependency resolver does not currently take into account all the packages that are installed. This behaviour is the source of the following dependency conflicts.\n"
     ]
    },
    {
     "name": "stdout",
     "output_type": "stream",
     "text": [
      "The push refers to repository [135808924095.dkr.ecr.us-west-2.amazonaws.com/bedrock_agentcore-weather_agent_tavily]\n",
      "94fa42b5194c: Waiting\n",
      "f8d7a1f0426e: Waiting\n",
      "b30f3b6f638d: Waiting\n",
      "28acd563392e: Waiting\n",
      "27b1542b9257: Waiting\n",
      "046e0ba021a5: Waiting\n",
      "bd8295b8e16d: Waiting\n",
      "8d15f357eba2: Waiting\n",
      "67cd76f1c048: Waiting\n",
      "b3407f3b5b5b: Waiting\n",
      "28acd563392e: Waiting\n",
      "27b1542b9257: Waiting\n",
      "94fa42b5194c: Waiting\n",
      "f8d7a1f0426e: Waiting\n",
      "b30f3b6f638d: Waiting\n",
      "67cd76f1c048: Waiting\n",
      "b3407f3b5b5b: Waiting\n",
      "046e0ba021a5: Waiting\n",
      "bd8295b8e16d: Waiting\n",
      "8d15f357eba2: Waiting\n",
      "bd8295b8e16d: Waiting\n",
      "8d15f357eba2: Waiting\n",
      "67cd76f1c048: Waiting\n",
      "b3407f3b5b5b: Layer already exists\n",
      "046e0ba021a5: Layer already exists\n",
      "f8d7a1f0426e: Layer already exists\n",
      "b30f3b6f638d: Waiting\n",
      "28acd563392e: Waiting\n",
      "27b1542b9257: Layer already exists\n",
      "94fa42b5194c: Layer already exists\n",
      "28acd563392e: Pushed\n",
      "67cd76f1c048: Pushed\n",
      "bd8295b8e16d: Pushed\n",
      "8d15f357eba2: Pushed\n",
      "b30f3b6f638d: Pushed\n",
      "latest: digest: sha256:f2d92117e2715c7d63f8a791d29cf5b30523a260dbe5013069521853926c405e size: 856\n"
     ]
    },
    {
     "name": "stderr",
     "output_type": "stream",
     "text": [
      "Deployed to cloud: arn:aws:bedrock-agentcore:us-west-2:135808924095:runtime/weather_agent_tavily-fnxYNB6m93\n",
      "🔍 Agent logs available at:\n",
      "   /aws/bedrock-agentcore/runtimes/weather_agent_tavily-fnxYNB6m93-DEFAULT\n",
      "   /aws/bedrock-agentcore/runtimes/weather_agent_tavily-fnxYNB6m93-DEFAULT/runtime-logs\n",
      "💡 Tail logs with: aws logs tail /aws/bedrock-agentcore/runtimes/weather_agent_tavily-fnxYNB6m93-DEFAULT --follow\n",
      "💡 Or view recent logs: aws logs tail /aws/bedrock-agentcore/runtimes/weather_agent_tavily-fnxYNB6m93-DEFAULT --since 1h\n"
     ]
    }
   ],
   "source": [
    "tavily_agent_lanch = agentcore_runtime.launch()"
   ]
  },
  {
   "cell_type": "code",
   "execution_count": 37,
   "id": "c78c46e1-91d4-436a-bdc5-e7986b1c737d",
   "metadata": {},
   "outputs": [
    {
     "data": {
      "text/plain": [
       "{'ResponseMetadata': {'RequestId': 'cb1690de-de49-4a0b-af11-34bca1586610',\n",
       "  'HTTPStatusCode': 200,\n",
       "  'HTTPHeaders': {'date': 'Sat, 09 Aug 2025 18:22:32 GMT',\n",
       "   'content-type': 'application/json',\n",
       "   'transfer-encoding': 'chunked',\n",
       "   'connection': 'keep-alive',\n",
       "   'x-amzn-requestid': 'cb1690de-de49-4a0b-af11-34bca1586610',\n",
       "   'baggage': 'Self=1-689791e0-561f0cc7391f087929645f86,session.id=e580ea69-94ac-41a8-911f-322c3717d46d',\n",
       "   'x-amzn-bedrock-agentcore-runtime-session-id': 'e580ea69-94ac-41a8-911f-322c3717d46d',\n",
       "   'x-amzn-trace-id': 'Root=1-689791e0-7dda6a3a7cc9cb144c0706d1;Self=1-689791e0-561f0cc7391f087929645f86'},\n",
       "  'RetryAttempts': 0},\n",
       " 'runtimeSessionId': 'e580ea69-94ac-41a8-911f-322c3717d46d',\n",
       " 'traceId': 'Root=1-689791e0-7dda6a3a7cc9cb144c0706d1;Self=1-689791e0-561f0cc7391f087929645f86',\n",
       " 'baggage': 'Self=1-689791e0-561f0cc7391f087929645f86,session.id=e580ea69-94ac-41a8-911f-322c3717d46d',\n",
       " 'contentType': 'application/json',\n",
       " 'statusCode': 200,\n",
       " 'response': [b'\"The current weather in Irvine, California is:\\\\n\\\\n**Temperature:** 73.9\\xc2\\xb0F (23.3\\xc2\\xb0C)\\\\n**Condition:** Partly Cloudy\\\\n**Feels like:** 77.1\\xc2\\xb0F (25.1\\xc2\\xb0C)\\\\n\\\\n**Current conditions:**\\\\n- Wind: 5.4 mph from the Southwest\\\\n- Humidity: 69%\\\\n- Pressure: 29.94 inches\\\\n- Visibility: 9 miles\\\\n- UV Index: 7.8 (high)\\\\n- Cloud cover: 25%\\\\n- No precipitation\\\\n\\\\nIt\\'s a nice day with partly cloudy skies and comfortable temperatures. Perfect weather for outdoor activities, though you\\'ll want to use sun protection due to the high UV index.\\\\n\"']}"
      ]
     },
     "execution_count": 37,
     "metadata": {},
     "output_type": "execute_result"
    }
   ],
   "source": [
    "#agentcore_runtime.invoke(payload={\"prompt\": \"How is the weather in Irvine?\"})\n",
    "agentcore_runtime.invoke(payload={\"prompt\": \"How is the weather in Irvine?\"}, user_id=sts.get_caller_identity()[\"UserId\"])"
   ]
  },
  {
   "cell_type": "markdown",
   "id": "08bfacc7-31e9-4e9a-bbea-e37ff44b1876",
   "metadata": {},
   "source": [
    "#### 2 - Tools needing OAuth Token - M2M Client Credentials"
   ]
  },
  {
   "cell_type": "markdown",
   "id": "b0474d38-c934-437d-b202-e688e9673cd7",
   "metadata": {},
   "source": [
    "##### AgentCore Identity offers two ways for agents to authenticate\n",
    "* User-delegated access (OAuth 2.0 authorization code grant):\n",
    "  - Agent acts on behalf of a specific user\n",
    "  - User gives permission for the agent to access their data\n",
    "  - Good for personal assistants or user-specific tasks\n",
    "* Machine-to-machine authentication (OAuth 2.0 client credentials grant):\n",
    "  - Agent acts independently without a specific user\n",
    "  - Direct service-to-service communication\n",
    "  - Good for automated systems or background processes\n",
    "\n",
    "In this leanring objective we will explore M2M authentication."
   ]
  },
  {
   "cell_type": "code",
   "execution_count": 39,
   "id": "2acaef7e-d972-4375-9aa1-433d803115fe",
   "metadata": {},
   "outputs": [
    {
     "name": "stdout",
     "output_type": "stream",
     "text": [
      "Creating User Pool...\n",
      "✅ User Pool created with ID: us-west-2_98I0xNVXN\n",
      "Creating Resource Server with custom scopes...\n",
      "✅ Resource Server created with ID: https://api.myapp.com\n",
      "Creating M2M App Client...\n",
      "✅ M2M Client created with ID: 2slvfnl7u6mc5cfpk9e3ngrh17\n",
      "Creating User Pool Domain: m2m-domain-63846\n",
      "✅ Domain created: m2m-domain-63846\n",
      "Creating test user...\n",
      "✅ Test user created: m2m-test-user / TestPass123!\n",
      "\n",
      "==================================================\n",
      "Machine-to-Machine Client Created Successfully!\n",
      "==================================================\n",
      "User Pool ID: us-west-2_98I0xNVXN\n",
      "Resource Server ID: https://api.myapp.com\n",
      "Client ID: 2slvfnl7u6mc5cfpk9e3ngrh17\n",
      "==================================================\n",
      "Credentials saved to: m2m_credentials.json\n"
     ]
    }
   ],
   "source": [
    "from m2m_cognito_setup import create_m2m_pool\n",
    "cognito_config = create_m2m_pool()"
   ]
  },
  {
   "cell_type": "markdown",
   "id": "dbeef987-644d-497a-ad9d-43f9dd6edb08",
   "metadata": {},
   "source": [
    "AgentCore Identity provice built in provider clients for Google. GitHub, Microsoft, Salesforce, and Slack. It also allows you to setup custom providers. \n",
    "In this example, we will use a custom provider that uses Amazon Cognito M2M Pool"
   ]
  },
  {
   "cell_type": "code",
   "execution_count": 40,
   "id": "9e6ef31a-a69a-4f14-b46c-10cd03891f18",
   "metadata": {},
   "outputs": [
    {
     "name": "stdout",
     "output_type": "stream",
     "text": [
      "{'ResponseMetadata': {'RequestId': '33cb6a33-5c7c-4ec3-b8e5-65fe2a3c8bff', 'HTTPStatusCode': 200, 'HTTPHeaders': {'date': 'Sat, 09 Aug 2025 18:24:24 GMT', 'content-type': 'application/json', 'content-length': '825', 'connection': 'keep-alive', 'x-amzn-requestid': '33cb6a33-5c7c-4ec3-b8e5-65fe2a3c8bff', 'x-amzn-remapped-x-amzn-requestid': 'c8e5962d-fd00-4224-889a-c06e804e12c5', 'x-amzn-remapped-content-length': '825', 'x-amzn-remapped-connection': 'keep-alive', 'x-amz-apigw-id': 'PDPN7GqFvHcEoGA=', 'x-amzn-trace-id': 'Root=1-68979258-6247541f4d4d7e254d3d6ef9', 'x-amzn-remapped-date': 'Sat, 09 Aug 2025 18:24:24 GMT'}, 'RetryAttempts': 0}, 'clientSecretArn': {'secretArn': 'arn:aws:secretsmanager:us-west-2:135808924095:secret:bedrock-agentcore-identity!default/oauth2/cognito-provider-m2m-pool-agentcore-R8ZDuH'}, 'name': 'cognito-provider-m2m-pool-agentcore', 'credentialProviderArn': 'arn:aws:bedrock-agentcore:us-west-2:135808924095:token-vault/default/oauth2credentialprovider/cognito-provider-m2m-pool-agentcore'}\n"
     ]
    }
   ],
   "source": [
    "from bedrock_agentcore.services.identity import IdentityClient\n",
    "        \n",
    "identity_client = IdentityClient(region=\"us-west-2\")\n",
    "\n",
    "#Configure Cognito OAuth2 Provider - 2LO Example\n",
    "cognito_provider = identity_client.create_oauth2_credential_provider({\n",
    "  \"name\": \"cognito-provider-m2m-pool-agentcore\",\n",
    "  \"credentialProviderVendor\": \"CustomOauth2\",\n",
    "  \"oauth2ProviderConfigInput\": {\n",
    "    \"customOauth2ProviderConfig\": {\n",
    "      \"clientId\": cognito_config[\"client_id\"],\n",
    "      \"clientSecret\": cognito_config[\"client_secret\"],\n",
    "      \"oauthDiscovery\": {\n",
    "        'authorizationServerMetadata': {\n",
    "            'issuer': \"https://cognito-idp.us-west-2.amazonaws.com/us-west-2_ZGLlSyvTI\",\n",
    "            'authorizationEndpoint': f\"https://{cognito_config['domain_name']}.auth.us-west-2.amazoncognito.com/oauth2/authorize\",\n",
    "            'tokenEndpoint': f\"https://{cognito_config['domain_name']}.auth.us-west-2.amazoncognito.com/oauth2/token\",\n",
    "            'responseTypes': [\"code\",\"token\"],\n",
    "        }\n",
    "      }\n",
    "    }\n",
    "  }\n",
    "})\n",
    "print(cognito_provider)"
   ]
  },
  {
   "cell_type": "code",
   "execution_count": 41,
   "id": "ccc0a601-1f29-401f-8e8e-8aebb70736e7",
   "metadata": {},
   "outputs": [
    {
     "name": "stdout",
     "output_type": "stream",
     "text": [
      "Writing weather_agent_cognito.py\n"
     ]
    }
   ],
   "source": [
    "%%writefile weather_agent_cognito.py\n",
    "import argparse, json, os\n",
    "from strands import Agent, tool\n",
    "from bedrock_agentcore.runtime import BedrockAgentCoreApp\n",
    "from bedrock_agentcore.identity.auth import requires_access_token\n",
    "from tavily import TavilyClient\n",
    "import asyncio\n",
    "\n",
    "COGNITO_ACESS_TOKEN = \"\"\n",
    "\n",
    "@requires_access_token(\n",
    "    provider_name=\"cognito-provider-m2m-pool-agentcore\", # replace with your own credential provider name\n",
    "    into=\"access_token\",\n",
    "    auth_flow=\"M2M\",\n",
    "    scopes = [\"https://api.myapp.com/read\"],\n",
    "    force_authentication=True\n",
    ")\n",
    "async def need_access_token(*, access_token: str):\n",
    "    print(\"\")\n",
    "    global COGNITO_ACESS_TOKEN\n",
    "    print(f'received acess token for async func: {access_token}')\n",
    "    COGNITO_ACESS_TOKEN = access_token\n",
    "\n",
    "app = BedrockAgentCoreApp()\n",
    "\n",
    "@tool\n",
    "def weather(city: str):\n",
    "    \"\"\"\n",
    "    Get weather for a given city\n",
    "    Params:\n",
    "        city: Name of the city you want the weather for\n",
    "    \"\"\"\n",
    "    if COGNITO_ACESS_TOKEN:\n",
    "        return f\"Weather in {city} is warm and sunny\"\n",
    "    else:\n",
    "        return \"Cannot access weather API. Access Token missing\"\n",
    "    \n",
    "    \n",
    "agent = Agent(tools=[weather])\n",
    "\n",
    "@app.entrypoint\n",
    "async def strands_agent_bedrock(payload):\n",
    "    \n",
    "    global COGNITO_ACESS_TOKEN\n",
    "    if not COGNITO_ACESS_TOKEN:\n",
    "        print(\"Attempting to retrieve Token...\")\n",
    "        try:\n",
    "            await need_access_token(access_token=\"\")\n",
    "            print(f\"API key retrieved: '{COGNITO_ACESS_TOKEN}'\")\n",
    "            os.environ[\"COGNITO_ACESS_TOKEN\"] = COGNITO_ACESS_TOKEN\n",
    "            print(\"Environment variable COGNITO_ACESS_TOKEN set\")\n",
    "        except Exception as e:\n",
    "            print(f\"Error retrieving API key: {e}\")\n",
    "            raise\n",
    "    else:\n",
    "        print(\"Access token already available\")\n",
    "        \n",
    "    prompt = payload.get(\"prompt\",\"hello\")\n",
    "    response = agent(prompt)\n",
    "    return response\n",
    "\n",
    "if __name__ == \"__main__\":\n",
    "    app.run()"
   ]
  },
  {
   "cell_type": "code",
   "execution_count": 42,
   "id": "d8ecb5ee-3d88-4693-9140-789316e1bedc",
   "metadata": {},
   "outputs": [],
   "source": [
    "!rm /Users/dhegde/Documents/Code/AgentCore/.bedrock_agentcore.yaml"
   ]
  },
  {
   "cell_type": "code",
   "execution_count": 43,
   "id": "987d4d9a-5b3c-4fb8-b604-e84fb83daf06",
   "metadata": {},
   "outputs": [
    {
     "name": "stderr",
     "output_type": "stream",
     "text": [
      "Bedrock AgentCore configured: /Users/dhegde/Documents/Code/AgentCore/GITHUB/amazon-bedrock-agentcore-samples/04-LearningPath/.bedrock_agentcore.yaml\n"
     ]
    }
   ],
   "source": [
    "agent_name = \"weather_agent_cognito\"\n",
    "from bedrock_agentcore_starter_toolkit import Runtime\n",
    "agentcore_runtime = Runtime()\n",
    "config_response = agentcore_runtime.configure(\n",
    "    entrypoint=\"weather_agent_cognito.py\",\n",
    "    execution_role=\"BedrockAgentCoreRole\",\n",
    "    auto_create_ecr=True,\n",
    "    requirements_file=\"requirements.txt\",\n",
    "    region=region,\n",
    "    agent_name=agent_name,\n",
    ")"
   ]
  },
  {
   "cell_type": "code",
   "execution_count": 44,
   "id": "c39e80b8-6bf5-47c2-9fc9-911b307c79cf",
   "metadata": {
    "scrolled": true
   },
   "outputs": [
    {
     "name": "stderr",
     "output_type": "stream",
     "text": [
      "Build: #9 4.401 ERROR: pip's dependency resolver does not currently take into account all the packages that are installed. This behaviour is the source of the following dependency conflicts.\n"
     ]
    },
    {
     "name": "stdout",
     "output_type": "stream",
     "text": [
      "The push refers to repository [135808924095.dkr.ecr.us-west-2.amazonaws.com/bedrock_agentcore-weather_agent_cognito]\n",
      "806abc05d852: Waiting\n",
      "f013ec0c87ae: Waiting\n",
      "046e0ba021a5: Waiting\n",
      "709687e0be6e: Waiting\n",
      "efec7b901ca6: Waiting\n",
      "bb92a866b42c: Waiting\n",
      "b3407f3b5b5b: Waiting\n",
      "94fa42b5194c: Waiting\n",
      "27b1542b9257: Waiting\n",
      "f8d7a1f0426e: Waiting\n",
      "806abc05d852: Waiting\n",
      "f013ec0c87ae: Waiting\n",
      "046e0ba021a5: Waiting\n",
      "709687e0be6e: Waiting\n",
      "f8d7a1f0426e: Waiting\n",
      "efec7b901ca6: Waiting\n",
      "bb92a866b42c: Waiting\n",
      "b3407f3b5b5b: Waiting\n",
      "94fa42b5194c: Waiting\n",
      "27b1542b9257: Waiting\n",
      "f8d7a1f0426e: Layer already exists\n",
      "efec7b901ca6: Waiting\n",
      "bb92a866b42c: Waiting\n",
      "b3407f3b5b5b: Layer already exists\n",
      "94fa42b5194c: Layer already exists\n",
      "27b1542b9257: Layer already exists\n",
      "806abc05d852: Waiting\n",
      "f013ec0c87ae: Waiting\n",
      "046e0ba021a5: Layer already exists\n",
      "709687e0be6e: Waiting\n",
      "806abc05d852: Pushed\n",
      "f013ec0c87ae: Pushed\n",
      "efec7b901ca6: Pushed\n",
      "bb92a866b42c: Pushed\n",
      "709687e0be6e: Pushed\n",
      "latest: digest: sha256:c29a24a68cbebe1a978d4a86749c3470924a92943ed6f4d0648bc34ee6daf7db size: 856\n"
     ]
    },
    {
     "name": "stderr",
     "output_type": "stream",
     "text": [
      "Deployed to cloud: arn:aws:bedrock-agentcore:us-west-2:135808924095:runtime/weather_agent_cognito-r75qsDCV2y\n",
      "🔍 Agent logs available at:\n",
      "   /aws/bedrock-agentcore/runtimes/weather_agent_cognito-r75qsDCV2y-DEFAULT\n",
      "   /aws/bedrock-agentcore/runtimes/weather_agent_cognito-r75qsDCV2y-DEFAULT/runtime-logs\n",
      "💡 Tail logs with: aws logs tail /aws/bedrock-agentcore/runtimes/weather_agent_cognito-r75qsDCV2y-DEFAULT --follow\n",
      "💡 Or view recent logs: aws logs tail /aws/bedrock-agentcore/runtimes/weather_agent_cognito-r75qsDCV2y-DEFAULT --since 1h\n"
     ]
    }
   ],
   "source": [
    "weather_agent_cognito_launch = agentcore_runtime.launch()"
   ]
  },
  {
   "cell_type": "code",
   "execution_count": 47,
   "id": "ba40c710-dd78-45cc-b0a0-a3a0fa7d4d79",
   "metadata": {},
   "outputs": [
    {
     "data": {
      "text/plain": [
       "{'ResponseMetadata': {'RequestId': 'a3ab1f58-7abc-4991-92eb-079ca30d142e',\n",
       "  'HTTPStatusCode': 200,\n",
       "  'HTTPHeaders': {'date': 'Sat, 09 Aug 2025 18:26:04 GMT',\n",
       "   'content-type': 'application/json',\n",
       "   'transfer-encoding': 'chunked',\n",
       "   'connection': 'keep-alive',\n",
       "   'x-amzn-requestid': 'a3ab1f58-7abc-4991-92eb-079ca30d142e',\n",
       "   'baggage': 'Self=1-689792b8-0c620bd53504bd5f39ab5f82,session.id=204b0041-aab1-4a71-b31a-ff6efb326a0e',\n",
       "   'x-amzn-bedrock-agentcore-runtime-session-id': '204b0041-aab1-4a71-b31a-ff6efb326a0e',\n",
       "   'x-amzn-trace-id': 'Root=1-689792b8-43cb9ee346b0f6af1124a0d8;Self=1-689792b8-0c620bd53504bd5f39ab5f82'},\n",
       "  'RetryAttempts': 0},\n",
       " 'runtimeSessionId': '204b0041-aab1-4a71-b31a-ff6efb326a0e',\n",
       " 'traceId': 'Root=1-689792b8-43cb9ee346b0f6af1124a0d8;Self=1-689792b8-0c620bd53504bd5f39ab5f82',\n",
       " 'baggage': 'Self=1-689792b8-0c620bd53504bd5f39ab5f82,session.id=204b0041-aab1-4a71-b31a-ff6efb326a0e',\n",
       " 'contentType': 'application/json',\n",
       " 'statusCode': 200,\n",
       " 'response': [b'\"The weather in Irvine is warm and sunny today!\\\\n\"']}"
      ]
     },
     "execution_count": 47,
     "metadata": {},
     "output_type": "execute_result"
    }
   ],
   "source": [
    "agentcore_runtime.invoke(payload={\"prompt\": \"How is the weather in Irvine?\"}, user_id=sts.get_caller_identity()[\"UserId\"])"
   ]
  },
  {
   "cell_type": "markdown",
   "id": "d955df90-73ac-447b-9da5-7c73c23c4cda",
   "metadata": {},
   "source": [
    "## Learning Objective 6 - Allowing only authorized users from invoking an Agent\n",
    "Two authentication options for hosted agents:\n",
    "\n",
    "IAM SigV4 Authentication (Default):\n",
    "* Works automatically without setup\n",
    "* Same as other AWS APIs\n",
    "\n",
    "JWT Bearer Token Authentication (Optional):\n",
    "* Requires configuration during agent creation\n",
    "* Need to provide two settings:\n",
    "\n",
    "  - **Discovery URL**: Must end with /.well-known/openid-configuration\n",
    "  - **Allowed clients**: List of permitted client IDs (validates client_id claim)\n",
    "\n",
    "* When to use each:\n",
    "  - Use IAM SigV4 for standard AWS integration\n",
    "  - Use JWT for external identity providers or custom auth systems"
   ]
  },
  {
   "cell_type": "code",
   "execution_count": 48,
   "id": "d15a7965-f66c-4a10-9840-0fe39790ed18",
   "metadata": {},
   "outputs": [],
   "source": [
    "#import importlib\n",
    "#importlib.reload(user_cognito_setup)"
   ]
  },
  {
   "cell_type": "markdown",
   "id": "bf175049-d3e5-4a24-acb9-7d6ac23f4fc1",
   "metadata": {},
   "source": [
    "#### Step 1: Create a cognito pool for user authorization"
   ]
  },
  {
   "cell_type": "code",
   "execution_count": 50,
   "id": "77871b91-549b-43ae-95ea-4c24e3c8da60",
   "metadata": {},
   "outputs": [
    {
     "name": "stdout",
     "output_type": "stream",
     "text": [
      "Using AWS Region: us-west-2\n",
      "\n",
      "Created User Pool: DemoUserPool (ID: us-west-2_gitmOvIHk)\n",
      "Created App Client: DemoClient (ID: 3ru1369kngk2253avn7ihoqu2a)\n",
      "\n",
      "Creating testuser1...\n",
      "Created user: testuser1\n",
      "Successfully authenticated user: testuser1\n",
      "\n",
      "Creating testuser2...\n",
      "Created user: testuser2\n",
      "Successfully authenticated user: testuser2\n"
     ]
    }
   ],
   "source": [
    "import user_cognito_setup\n",
    "spa_config = user_cognito_setup.create_spa_pool()"
   ]
  },
  {
   "cell_type": "code",
   "execution_count": 51,
   "id": "fa503488-cedc-46fe-947e-1cadde269ef4",
   "metadata": {},
   "outputs": [
    {
     "name": "stdout",
     "output_type": "stream",
     "text": [
      "rm: /Users/dhegde/Documents/Code/AgentCore/.bedrock_agentcore.yaml: No such file or directory\n"
     ]
    }
   ],
   "source": [
    "!rm /Users/dhegde/Documents/Code/AgentCore/.bedrock_agentcore.yaml"
   ]
  },
  {
   "cell_type": "markdown",
   "id": "b6e828c6-f6fc-4af0-84b2-98cd2f67aaba",
   "metadata": {},
   "source": [
    "#### Step 2: Add authorization configuration while creating Agent Runtime"
   ]
  },
  {
   "cell_type": "code",
   "execution_count": 58,
   "id": "168f28c4-60ab-4244-9908-10afb7f0f0b7",
   "metadata": {},
   "outputs": [
    {
     "name": "stderr",
     "output_type": "stream",
     "text": [
      "Bedrock AgentCore configured: /Users/dhegde/Documents/Code/AgentCore/GITHUB/amazon-bedrock-agentcore-samples/04-LearningPath/.bedrock_agentcore.yaml\n"
     ]
    }
   ],
   "source": [
    "#Update the Cognito Discovery url below. You can get the discovery url from the \"Provision a Cognito User Pool\" section\n",
    "discovery_url = f'https://cognito-idp.us-west-2.amazonaws.com/{spa_config[\"pool_id\"]}/.well-known/openid-configuration' \n",
    "client_id = spa_config['client_id']\n",
    "inbound_auth_weather_rt = Runtime()\n",
    "agent_name = \"inbound_auth_weather\"\n",
    "\n",
    "response = inbound_auth_weather_rt.configure(\n",
    "    entrypoint=\"weather_agent_strands.py\",\n",
    "    execution_role=agentcore_iam_role['Role']['Arn'],\n",
    "    auto_create_ecr=True,\n",
    "    requirements_file=\"requirements.txt\",\n",
    "    region=region,\n",
    "    agent_name=agent_name,\n",
    "    authorizer_configuration={\n",
    "        \"customJWTAuthorizer\": {\n",
    "            \"discoveryUrl\": discovery_url,\n",
    "            \"allowedClients\": [client_id]\n",
    "        }\n",
    "    }\n",
    ")"
   ]
  },
  {
   "cell_type": "code",
   "execution_count": 59,
   "id": "be8f866d-1606-49d5-97b8-53c366cca80c",
   "metadata": {
    "scrolled": true
   },
   "outputs": [
    {
     "name": "stderr",
     "output_type": "stream",
     "text": [
      "Build: #9 4.479 ERROR: pip's dependency resolver does not currently take into account all the packages that are installed. This behaviour is the source of the following dependency conflicts.\n"
     ]
    },
    {
     "name": "stdout",
     "output_type": "stream",
     "text": [
      "The push refers to repository [135808924095.dkr.ecr.us-west-2.amazonaws.com/bedrock_agentcore-inbound_auth_weather]\n",
      "b3407f3b5b5b: Waiting\n",
      "27b1542b9257: Waiting\n",
      "94fa42b5194c: Waiting\n",
      "4684bda3cff9: Waiting\n",
      "9693a807dce6: Waiting\n",
      "f8d7a1f0426e: Waiting\n",
      "7edc634fb110: Waiting\n",
      "38cebf204f8e: Waiting\n",
      "046e0ba021a5: Waiting\n",
      "5da544f60aed: Waiting\n",
      "7edc634fb110: Waiting\n",
      "38cebf204f8e: Waiting\n",
      "046e0ba021a5: Waiting\n",
      "5da544f60aed: Waiting\n",
      "9693a807dce6: Waiting\n",
      "f8d7a1f0426e: Waiting\n",
      "94fa42b5194c: Waiting\n",
      "4684bda3cff9: Waiting\n",
      "b3407f3b5b5b: Waiting\n",
      "27b1542b9257: Waiting\n",
      "5da544f60aed: Waiting\n",
      "9693a807dce6: Waiting\n",
      "f8d7a1f0426e: Waiting\n",
      "7edc634fb110: Waiting\n",
      "38cebf204f8e: Waiting\n",
      "046e0ba021a5: Waiting\n",
      "4684bda3cff9: Waiting\n",
      "b3407f3b5b5b: Waiting\n",
      "27b1542b9257: Layer already exists\n",
      "94fa42b5194c: Layer already exists\n",
      "046e0ba021a5: Layer already exists\n",
      "f8d7a1f0426e: Layer already exists\n",
      "4684bda3cff9: Waiting\n",
      "b3407f3b5b5b: Layer already exists\n",
      "5da544f60aed: Pushed\n",
      "4684bda3cff9: Pushed\n",
      "9693a807dce6: Pushed\n",
      "38cebf204f8e: Pushed\n",
      "7edc634fb110: Pushed\n",
      "latest: digest: sha256:edb37beaa5549ec7aceaa37784d66c48edfbda29f01271373a3011f3543847e2 size: 856\n"
     ]
    },
    {
     "name": "stderr",
     "output_type": "stream",
     "text": [
      "Deployed to cloud: arn:aws:bedrock-agentcore:us-west-2:135808924095:runtime/inbound_auth_weather-vjfiSF7G4u\n",
      "🔍 Agent logs available at:\n",
      "   /aws/bedrock-agentcore/runtimes/inbound_auth_weather-vjfiSF7G4u-DEFAULT\n",
      "   /aws/bedrock-agentcore/runtimes/inbound_auth_weather-vjfiSF7G4u-DEFAULT/runtime-logs\n",
      "💡 Tail logs with: aws logs tail /aws/bedrock-agentcore/runtimes/inbound_auth_weather-vjfiSF7G4u-DEFAULT --follow\n",
      "💡 Or view recent logs: aws logs tail /aws/bedrock-agentcore/runtimes/inbound_auth_weather-vjfiSF7G4u-DEFAULT --since 1h\n"
     ]
    }
   ],
   "source": [
    "inbound_auth_weather_launch = inbound_auth_weather_rt.launch()"
   ]
  },
  {
   "cell_type": "code",
   "execution_count": 60,
   "id": "1e0e9556-0fbc-47c5-bd46-fc8afde7d3b9",
   "metadata": {},
   "outputs": [],
   "source": [
    "cognito_client = boto3.client('cognito-idp', region_name=region,)\n",
    "cognito_bearer_token_1 = cognito_client.initiate_auth(\n",
    "        ClientId=client_id,  \n",
    "        AuthFlow=\"USER_PASSWORD_AUTH\",\n",
    "        AuthParameters={\n",
    "            \"USERNAME\": \"testuser1\", \n",
    "            \"PASSWORD\": spa_config['user1']['password']\n",
    "        }\n",
    "    )[\"AuthenticationResult\"][\"AccessToken\"]"
   ]
  },
  {
   "cell_type": "code",
   "execution_count": 61,
   "id": "389f938d-f50e-46da-9c22-c3062f29a7eb",
   "metadata": {},
   "outputs": [],
   "source": [
    "import urllib.parse, requests\n",
    "\n",
    "# URL encode the agent ARN\n",
    "escaped_agent_arn = urllib.parse.quote(inbound_auth_weather_launch.agent_arn, safe='')\n",
    "\n",
    "headers = {\n",
    "    \"Authorization\": f\"Bearer {cognito_bearer_token_1}\",\n",
    "    \"X-Amzn-Bedrock-AgentCore-Runtime-Session-Id\": \"aea8996f-dcf5-4227-b5ea-f9e9c1843729\",\n",
    "    \"X-Amzn-Trace-Id\": \"1234567890\" \n",
    "}\n",
    "\n",
    "# Construct the URL\n",
    "url = f\"https://bedrock-agentcore.{region}.amazonaws.com/runtimes/{escaped_agent_arn}/invocations?qualifier=DEFAULT\"\n",
    "http_response = requests.post(url, data=json.dumps({\"prompt\": \"How is the weather in Irvine?\"}), headers=headers)"
   ]
  },
  {
   "cell_type": "code",
   "execution_count": 62,
   "id": "b6f910ed-4d53-40f0-a15a-67b60cc40064",
   "metadata": {},
   "outputs": [
    {
     "data": {
      "text/plain": [
       "'\"The weather in Irvine is warm and sunny today! It sounds like a great day to be outside.\\\\n\"'"
      ]
     },
     "execution_count": 62,
     "metadata": {},
     "output_type": "execute_result"
    }
   ],
   "source": [
    "http_response.text"
   ]
  },
  {
   "cell_type": "code",
   "execution_count": 57,
   "id": "4a109f32-fc24-4132-984b-4f707f06f6a8",
   "metadata": {},
   "outputs": [
    {
     "name": "stdout",
     "output_type": "stream",
     "text": [
      "import argparse, json\n",
      "from strands import Agent, tool\n",
      "\n",
      "@tool\n",
      "def weather(city: str):\n",
      "    \"\"\"\n",
      "    Get weather for a given city\n",
      "    Params:\n",
      "        city: Name of the city you want the weather for\n",
      "    \"\"\"\n",
      "    return f\"Weather in {city} is warm and sunny\"\n",
      "\n",
      "agent = Agent(tools=[weather])\n",
      "\n",
      "def strands_agent_bedrock(payload):\n",
      "    prompt = payload.get(\"prompt\",\"hello\")\n",
      "    response = agent(prompt)\n",
      "    return response\n",
      "\n",
      "if __name__ == \"__main__\":\n",
      "    parser = argparse.ArgumentParser()\n",
      "    parser.add_argument(\"payload\", type=str)\n",
      "    args = parser.parse_args()\n",
      "    response = strands_agent_bedrock(json.loads(args.payload))\n",
      "    print(response)\n"
     ]
    }
   ],
   "source": [
    "!cat weather_agent.py"
   ]
  },
  {
   "cell_type": "code",
   "execution_count": null,
   "id": "941a51ff-a8fa-40c2-a034-b3a5d49b4746",
   "metadata": {},
   "outputs": [],
   "source": []
  },
  {
   "cell_type": "code",
   "execution_count": null,
   "id": "faff4440-6da4-47bb-8ba2-2985657a598a",
   "metadata": {},
   "outputs": [],
   "source": []
  }
 ],
 "metadata": {
  "kernelspec": {
   "display_name": "Python 3 (ipykernel)",
   "language": "python",
   "name": "python3"
  },
  "language_info": {
   "codemirror_mode": {
    "name": "ipython",
    "version": 3
   },
   "file_extension": ".py",
   "mimetype": "text/x-python",
   "name": "python",
   "nbconvert_exporter": "python",
   "pygments_lexer": "ipython3",
   "version": "3.12.9"
  }
 },
 "nbformat": 4,
 "nbformat_minor": 5
}
